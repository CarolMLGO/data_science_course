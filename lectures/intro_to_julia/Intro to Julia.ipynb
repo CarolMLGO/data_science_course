{
 "cells": [
  {
   "cell_type": "markdown",
   "metadata": {},
   "source": [
    "# the Julia programming language\n",
    "<img src=\"https://i1.wp.com/www.numfocus.org/wp-content/uploads/2016/07/julia-logo-300.png?w=1080&ssl=1\" alt=\"Julia logo\" width=\"100\"/>\n",
    "So, why Julia?\n",
    "\n",
    "* free, open-source\n",
    "* high-level, thus easy to use\n",
    "* expressive, read-like-a-book syntax\n",
    "* fast (design choices allow just-in-time compiler to make optimizations, resulting in fast code)\n",
    "* safety (offers optional type assertion)\n",
    "* designed especially for scientific computing\n",
    "* easy parallelization across cores\n",
    "* multiple dispatch (we'll see later)\n",
    "\n",
    "[link to official Julia website](https://julialang.org/) and [its documentation](https://docs.julialang.org/en/v1/)\n",
    "\n",
    "[link to recent Nature article on Julia](https://www.nature.com/articles/d41586-019-02310-3)\n",
    "\n",
    "another great resource to learn more Julia: [Julia express](http://bogumilkaminski.pl/files/julia_express.pdf)"
   ]
  },
  {
   "cell_type": "markdown",
   "metadata": {},
   "source": [
    "## hello world, assignment\n",
    "\n",
    "\"an assignment statement sets and/or re-sets the value stored in the storage location(s) denoted by a variable name; in other words, it copies a value into the variable\" - [Wikipedia](https://en.wikipedia.org/wiki/Assignment_(computer_science))"
   ]
  },
  {
   "cell_type": "code",
   "execution_count": 1,
   "metadata": {},
   "outputs": [
    {
     "data": {
      "text/plain": [
       "5.3"
      ]
     },
     "execution_count": 1,
     "metadata": {},
     "output_type": "execute_result"
    }
   ],
   "source": [
    "x = 5.3 # not \"x equals 5.3\" but, \"assign x to be 5.3\""
   ]
  },
  {
   "cell_type": "markdown",
   "metadata": {},
   "source": [
    "assignment is not the same as \"equals\"! read [here](https://en.wikipedia.org/wiki/Assignment_(computer_science)#Assignment_versus_equality)."
   ]
  },
  {
   "cell_type": "code",
   "execution_count": 2,
   "metadata": {},
   "outputs": [
    {
     "data": {
      "text/plain": [
       "true"
      ]
     },
     "execution_count": 2,
     "metadata": {},
     "output_type": "execute_result"
    }
   ],
   "source": [
    "x == 5.3"
   ]
  },
  {
   "cell_type": "code",
   "execution_count": 3,
   "metadata": {},
   "outputs": [
    {
     "name": "stdout",
     "output_type": "stream",
     "text": [
      "hello, world!\n"
     ]
    }
   ],
   "source": [
    "println(\"hello, world!\") # \"ln\" is for \"line\" to creat a new line afterwards."
   ]
  },
  {
   "cell_type": "code",
   "execution_count": 4,
   "metadata": {},
   "outputs": [
    {
     "name": "stdout",
     "output_type": "stream",
     "text": [
      "what's x? 5.3\n"
     ]
    }
   ],
   "source": [
    "println(\"what's x? \", x)"
   ]
  },
  {
   "cell_type": "markdown",
   "metadata": {},
   "source": [
    "## types\n",
    "\n",
    "`x` is represented on your computer using a chuck of memory consisting of 64 bits (bit = binary digit). It is represented in the [double-precision floating point format](https://en.wikipedia.org/wiki/Double-precision_floating-point_format).\n",
    "\n",
    "<img src=\"https://upload.wikimedia.org/wikipedia/commons/a/a9/IEEE_754_Double_Floating_Point_Format.svg\" alt=\"bits\" width=\"500\"/>"
   ]
  },
  {
   "cell_type": "code",
   "execution_count": 5,
   "metadata": {},
   "outputs": [
    {
     "data": {
      "text/plain": [
       "Float64"
      ]
     },
     "execution_count": 5,
     "metadata": {},
     "output_type": "execute_result"
    }
   ],
   "source": [
    "typeof(x)"
   ]
  },
  {
   "cell_type": "code",
   "execution_count": 6,
   "metadata": {},
   "outputs": [
    {
     "data": {
      "text/plain": [
       "Int64"
      ]
     },
     "execution_count": 6,
     "metadata": {},
     "output_type": "execute_result"
    }
   ],
   "source": [
    "y = 5\n",
    "typeof(y)"
   ]
  },
  {
   "cell_type": "code",
   "execution_count": 7,
   "metadata": {},
   "outputs": [
    {
     "data": {
      "text/plain": [
       "String"
      ]
     },
     "execution_count": 7,
     "metadata": {},
     "output_type": "execute_result"
    }
   ],
   "source": [
    "my_name = \"Cory\"\n",
    "typeof(my_name)"
   ]
  },
  {
   "cell_type": "markdown",
   "metadata": {},
   "source": [
    "the `Symbol` is an [interned string](https://en.wikipedia.org/wiki/String_interning), which makes e.g. string comparison operations faster. \n",
    "\n",
    "For those interested:\n",
    "A more nuanced view of the `Symbol` is [here](https://stackoverflow.com/questions/23480722/what-is-a-symbol-in-julia#) by the co-creator and core developer of Julia. The function `pointer_from_objref` in Julia allows you to see where in memory an object in Julia is stored. Experiment with a `Symbol` and `String` to illustrate that `Symbol`s are *interned* strings."
   ]
  },
  {
   "cell_type": "code",
   "execution_count": 8,
   "metadata": {},
   "outputs": [
    {
     "data": {
      "text/plain": [
       "Symbol"
      ]
     },
     "execution_count": 8,
     "metadata": {},
     "output_type": "execute_result"
    }
   ],
   "source": [
    "my_name = :Cory\n",
    "typeof(my_name)"
   ]
  },
  {
   "cell_type": "code",
   "execution_count": 9,
   "metadata": {},
   "outputs": [
    {
     "data": {
      "text/plain": [
       "Bool"
      ]
     },
     "execution_count": 9,
     "metadata": {},
     "output_type": "execute_result"
    }
   ],
   "source": [
    "typeof(true)\n",
    "typeof(false)"
   ]
  },
  {
   "cell_type": "markdown",
   "metadata": {},
   "source": [
    "## dictionaries\n",
    "a collection of (key, value) pairs. e.g. key = element, value = atomic mass\n",
    "\n",
    "constructing a dictionary"
   ]
  },
  {
   "cell_type": "code",
   "execution_count": 10,
   "metadata": {},
   "outputs": [
    {
     "data": {
      "text/plain": [
       "Dict{Symbol,Float64} with 4 entries:\n",
       "  :N => 14.0067\n",
       "  :H => 1.01\n",
       "  :O => 15.999\n",
       "  :C => 12.01"
      ]
     },
     "execution_count": 10,
     "metadata": {},
     "output_type": "execute_result"
    }
   ],
   "source": [
    "atomic_mass = Dict{Symbol, Float64}(:C => 12.01, :N => 14.0067, :O => 15.999, :H => 1.01)"
   ]
  },
  {
   "cell_type": "markdown",
   "metadata": {},
   "source": [
    "querying a dictionary via passing the key, returning the value"
   ]
  },
  {
   "cell_type": "code",
   "execution_count": 11,
   "metadata": {},
   "outputs": [
    {
     "data": {
      "text/plain": [
       "12.01"
      ]
     },
     "execution_count": 11,
     "metadata": {},
     "output_type": "execute_result"
    }
   ],
   "source": [
    "atomic_mass[:C]"
   ]
  },
  {
   "cell_type": "markdown",
   "metadata": {},
   "source": [
    "add a (key, value) pair to a dictionary"
   ]
  },
  {
   "cell_type": "code",
   "execution_count": 12,
   "metadata": {},
   "outputs": [
    {
     "data": {
      "text/plain": [
       "Dict{Symbol,Float64} with 4 entries:\n",
       "  :N => 14.0067\n",
       "  :H => 1.008\n",
       "  :O => 15.999\n",
       "  :C => 12.01"
      ]
     },
     "execution_count": 12,
     "metadata": {},
     "output_type": "execute_result"
    }
   ],
   "source": [
    "atomic_mass[:H] = 1.008\n",
    "atomic_mass"
   ]
  },
  {
   "cell_type": "markdown",
   "metadata": {},
   "source": [
    "iterate through a dictionary"
   ]
  },
  {
   "cell_type": "code",
   "execution_count": 13,
   "metadata": {},
   "outputs": [
    {
     "name": "stdout",
     "output_type": "stream",
     "text": [
      "the atomic mass of N is 14.0067\n",
      "the atomic mass of H is 1.008\n",
      "the atomic mass of O is 15.999\n",
      "the atomic mass of C is 12.01\n"
     ]
    }
   ],
   "source": [
    "for (element, mass) in atomic_mass # iterate over, unpack the (key, value) pairs\n",
    "    print(\"the atomic mass of \")\n",
    "    print(element)\n",
    "    println(\" is \", mass)\n",
    "end"
   ]
  },
  {
   "cell_type": "markdown",
   "metadata": {},
   "source": [
    "### arrays"
   ]
  },
  {
   "cell_type": "code",
   "execution_count": 14,
   "metadata": {},
   "outputs": [
    {
     "data": {
      "text/plain": [
       "4-element Array{Float64,1}:\n",
       "  6.3\n",
       "  1.2\n",
       "  8.2\n",
       " 10.8"
      ]
     },
     "execution_count": 14,
     "metadata": {},
     "output_type": "execute_result"
    }
   ],
   "source": [
    "x = [6.3, 1.2, 8.2, 10.8] # column vector"
   ]
  },
  {
   "cell_type": "markdown",
   "metadata": {},
   "source": [
    "changing an element"
   ]
  },
  {
   "cell_type": "code",
   "execution_count": 15,
   "metadata": {},
   "outputs": [
    {
     "data": {
      "text/plain": [
       "4-element Array{Float64,1}:\n",
       "  6.3\n",
       "  1.2\n",
       " 43.0\n",
       " 10.8"
      ]
     },
     "execution_count": 15,
     "metadata": {},
     "output_type": "execute_result"
    }
   ],
   "source": [
    "x[3] = 43.0\n",
    "x"
   ]
  },
  {
   "cell_type": "markdown",
   "metadata": {},
   "source": [
    "iterating through an array"
   ]
  },
  {
   "cell_type": "code",
   "execution_count": 20,
   "metadata": {},
   "outputs": [
    {
     "name": "stdout",
     "output_type": "stream",
     "text": [
      "entry 1 is 6.3\n",
      "entry 2 is 1.2\n",
      "entry 3 is 43.0\n",
      "entry 4 is 10.8\n",
      "entries are: \n",
      "  6.3\n",
      "  1.2\n",
      "  43.0\n",
      "  10.8\n"
     ]
    }
   ],
   "source": [
    "for i = 1:length(x)\n",
    "    print(\"entry \")\n",
    "    print(i)\n",
    "    println(\" is \", x[i])\n",
    "end\n",
    "\n",
    "println(\"entries are: \")\n",
    "for x_i in x\n",
    "    println(\"  \", x_i)\n",
    "end"
   ]
  },
  {
   "cell_type": "markdown",
   "metadata": {},
   "source": [
    "add an element to the end of the array"
   ]
  },
  {
   "cell_type": "code",
   "execution_count": 21,
   "metadata": {},
   "outputs": [
    {
     "data": {
      "text/plain": [
       "5-element Array{Float64,1}:\n",
       "  6.3\n",
       "  1.2\n",
       " 43.0\n",
       " 10.8\n",
       " 23.0"
      ]
     },
     "execution_count": 21,
     "metadata": {},
     "output_type": "execute_result"
    }
   ],
   "source": [
    "push!(x, 23.0) # exlamation means function will modify its argument\n",
    "x"
   ]
  },
  {
   "cell_type": "markdown",
   "metadata": {},
   "source": [
    "add an element to the beginning of the array"
   ]
  },
  {
   "cell_type": "code",
   "execution_count": 22,
   "metadata": {},
   "outputs": [
    {
     "data": {
      "text/plain": [
       "6-element Array{Float64,1}:\n",
       "  0.0\n",
       "  6.3\n",
       "  1.2\n",
       " 43.0\n",
       " 10.8\n",
       " 23.0"
      ]
     },
     "execution_count": 22,
     "metadata": {},
     "output_type": "execute_result"
    }
   ],
   "source": [
    "pushfirst!(x, 0.0)\n",
    "x"
   ]
  },
  {
   "cell_type": "markdown",
   "metadata": {},
   "source": [
    "#### slicing by indices (`Int64`s)"
   ]
  },
  {
   "cell_type": "code",
   "execution_count": 23,
   "metadata": {},
   "outputs": [
    {
     "name": "stdout",
     "output_type": "stream",
     "text": [
      "x = [0.0, 6.3, 1.2, 43.0, 10.8, 23.0]\n",
      "x[ids_i_want] = [6.3, 23.0]\n"
     ]
    }
   ],
   "source": [
    "ids_i_want = [2, 6]\n",
    "\n",
    "println(\"x = \", x)\n",
    "println(\"x[ids_i_want] = \", x[ids_i_want])"
   ]
  },
  {
   "cell_type": "code",
   "execution_count": 24,
   "metadata": {},
   "outputs": [
    {
     "data": {
      "text/plain": [
       "2-element Array{Float64,1}:\n",
       " 6.3\n",
       " 1.2"
      ]
     },
     "execution_count": 24,
     "metadata": {},
     "output_type": "execute_result"
    }
   ],
   "source": [
    "x[2:3]"
   ]
  },
  {
   "cell_type": "code",
   "execution_count": 25,
   "metadata": {},
   "outputs": [
    {
     "data": {
      "text/plain": [
       "5-element Array{Float64,1}:\n",
       "  6.3\n",
       "  1.2\n",
       " 43.0\n",
       " 10.8\n",
       " 23.0"
      ]
     },
     "execution_count": 25,
     "metadata": {},
     "output_type": "execute_result"
    }
   ],
   "source": [
    "x[2:end]"
   ]
  },
  {
   "cell_type": "markdown",
   "metadata": {},
   "source": [
    "#### slicing by boolean arrays"
   ]
  },
  {
   "cell_type": "code",
   "execution_count": 26,
   "metadata": {},
   "outputs": [
    {
     "name": "stdout",
     "output_type": "stream",
     "text": [
      "x = [0.0, 6.3, 1.2, 43.0, 10.8, 23.0]\n",
      "x[keep_entry] = [0.0, 23.0]\n"
     ]
    }
   ],
   "source": [
    "keep_entry = [true, false, false, false, false, true]\n",
    "\n",
    "println(\"x = \", x)\n",
    "println(\"x[keep_entry] = \", x[keep_entry])"
   ]
  },
  {
   "cell_type": "markdown",
   "metadata": {},
   "source": [
    "slicing by boolean arrays is especially useful for querying"
   ]
  },
  {
   "cell_type": "code",
   "execution_count": 27,
   "metadata": {},
   "outputs": [
    {
     "ename": "MethodError",
     "evalue": "MethodError: no method matching isless(::Float64, ::Array{Float64,1})\nClosest candidates are:\n  isless(::Float64, !Matched::Float64) at float.jl:459\n  isless(!Matched::Missing, ::Any) at missing.jl:66\n  isless(::AbstractFloat, !Matched::AbstractFloat) at operators.jl:156\n  ...",
     "output_type": "error",
     "traceback": [
      "MethodError: no method matching isless(::Float64, ::Array{Float64,1})\nClosest candidates are:\n  isless(::Float64, !Matched::Float64) at float.jl:459\n  isless(!Matched::Missing, ::Any) at missing.jl:66\n  isless(::AbstractFloat, !Matched::AbstractFloat) at operators.jl:156\n  ...",
      "",
      "Stacktrace:",
      " [1] <(::Float64, ::Array{Float64,1}) at ./operators.jl:268",
      " [2] >(::Array{Float64,1}, ::Float64) at ./operators.jl:294",
      " [3] top-level scope at In[27]:1"
     ]
    }
   ],
   "source": [
    "x > 12.0 # \"is this vector greater than this number?\" makes no sense."
   ]
  },
  {
   "cell_type": "code",
   "execution_count": 28,
   "metadata": {},
   "outputs": [
    {
     "data": {
      "text/plain": [
       "6-element BitArray{1}:\n",
       " 0\n",
       " 0\n",
       " 0\n",
       " 1\n",
       " 0\n",
       " 1"
      ]
     },
     "execution_count": 28,
     "metadata": {},
     "output_type": "execute_result"
    }
   ],
   "source": [
    "x .> 12.0 # elementwise [array of bits similar to array of bools"
   ]
  },
  {
   "cell_type": "code",
   "execution_count": 29,
   "metadata": {},
   "outputs": [
    {
     "data": {
      "text/plain": [
       "2-element Array{Float64,1}:\n",
       " 43.0\n",
       " 23.0"
      ]
     },
     "execution_count": 29,
     "metadata": {},
     "output_type": "execute_result"
    }
   ],
   "source": [
    "x[x .> 12.0]"
   ]
  },
  {
   "cell_type": "markdown",
   "metadata": {},
   "source": [
    "multi-dimensional arrays"
   ]
  },
  {
   "cell_type": "code",
   "execution_count": 30,
   "metadata": {},
   "outputs": [
    {
     "data": {
      "text/plain": [
       "2×3 Array{Int64,2}:\n",
       " 1  3  1\n",
       " 0  8  3"
      ]
     },
     "execution_count": 30,
     "metadata": {},
     "output_type": "execute_result"
    }
   ],
   "source": [
    "y = [1 3 1; \n",
    "    0 8 3]"
   ]
  },
  {
   "cell_type": "code",
   "execution_count": 31,
   "metadata": {},
   "outputs": [
    {
     "data": {
      "text/plain": [
       "(2, 3)"
      ]
     },
     "execution_count": 31,
     "metadata": {},
     "output_type": "execute_result"
    }
   ],
   "source": [
    "size(y) # two rows, three columns"
   ]
  },
  {
   "cell_type": "markdown",
   "metadata": {},
   "source": [
    "slicing e.g., 2nd column, all the rows"
   ]
  },
  {
   "cell_type": "code",
   "execution_count": 32,
   "metadata": {},
   "outputs": [
    {
     "data": {
      "text/plain": [
       "2-element Array{Int64,1}:\n",
       " 3\n",
       " 8"
      ]
     },
     "execution_count": 32,
     "metadata": {},
     "output_type": "execute_result"
    }
   ],
   "source": [
    "y[:, 2]"
   ]
  },
  {
   "cell_type": "markdown",
   "metadata": {},
   "source": [
    "changing an element"
   ]
  },
  {
   "cell_type": "code",
   "execution_count": 33,
   "metadata": {},
   "outputs": [
    {
     "data": {
      "text/plain": [
       "2×3 Array{Int64,2}:\n",
       " 1  3  989\n",
       " 0  8    3"
      ]
     },
     "execution_count": 33,
     "metadata": {},
     "output_type": "execute_result"
    }
   ],
   "source": [
    "y[1, 3] = 989\n",
    "y"
   ]
  },
  {
   "cell_type": "markdown",
   "metadata": {},
   "source": [
    "three paradigms to construct an array"
   ]
  },
  {
   "cell_type": "code",
   "execution_count": 34,
   "metadata": {},
   "outputs": [
    {
     "data": {
      "text/plain": [
       "5-element Array{Float64,1}:\n",
       "  2.0\n",
       "  4.0\n",
       "  6.0\n",
       "  8.0\n",
       " 10.0"
      ]
     },
     "execution_count": 34,
     "metadata": {},
     "output_type": "execute_result"
    }
   ],
   "source": [
    "# (1) list comprehnsion (fast, beautiful)\n",
    "x = [2.0 * i for i = 1:5] # think \"what do I want in element i?\"\n",
    "\n",
    "# (2) pre-allocate memory, fill in (fast, takes a few lines)\n",
    "x = zeros(Float64, 5) # construct a 5-element array with zeros\n",
    "for i = 1:5\n",
    "    x[i] = 2 * i\n",
    "end\n",
    "\n",
    "# (3) start with empty array, add values (slow)\n",
    "x = Float64[]\n",
    "for i = 1:5\n",
    "    push!(x, 2 * i)\n",
    "end\n",
    "x"
   ]
  },
  {
   "cell_type": "markdown",
   "metadata": {},
   "source": [
    "special array constructors"
   ]
  },
  {
   "cell_type": "code",
   "execution_count": 35,
   "metadata": {},
   "outputs": [
    {
     "data": {
      "text/plain": [
       "5-element Array{Float64,1}:\n",
       " 0.0 \n",
       " 0.25\n",
       " 0.5 \n",
       " 0.75\n",
       " 1.0 "
      ]
     },
     "execution_count": 35,
     "metadata": {},
     "output_type": "execute_result"
    }
   ],
   "source": [
    "y = zeros(Float64, 3, 6)\n",
    "y = ones(Float64, 3, 6)\n",
    "y = range(0.0, stop=1.0, length=5)\n",
    "collect(y) # collect to actually build the array"
   ]
  },
  {
   "cell_type": "markdown",
   "metadata": {},
   "source": [
    "element-wise operations: precede with `.` to indicate element-wise"
   ]
  },
  {
   "cell_type": "code",
   "execution_count": 44,
   "metadata": {},
   "outputs": [
    {
     "data": {
      "text/plain": [
       "3-element Array{Float64,1}:\n",
       "  0.0\n",
       "  6.0\n",
       " 14.0"
      ]
     },
     "execution_count": 44,
     "metadata": {},
     "output_type": "execute_result"
    }
   ],
   "source": [
    "x = [0.0, 1.0, 2.0]\n",
    "y = [5.0, 6.0, 7.0]\n",
    "\n",
    "x .* y"
   ]
  },
  {
   "cell_type": "code",
   "execution_count": 45,
   "metadata": {},
   "outputs": [
    {
     "data": {
      "text/plain": [
       "3-element Array{Float64,1}:\n",
       " 5.0\n",
       " 7.0\n",
       " 9.0"
      ]
     },
     "execution_count": 45,
     "metadata": {},
     "output_type": "execute_result"
    }
   ],
   "source": [
    "x .+ y"
   ]
  },
  {
   "cell_type": "code",
   "execution_count": 46,
   "metadata": {},
   "outputs": [
    {
     "data": {
      "text/plain": [
       "3-element Array{Float64,1}:\n",
       " 0.0               \n",
       " 0.8414709848078965\n",
       " 0.9092974268256817"
      ]
     },
     "execution_count": 46,
     "metadata": {},
     "output_type": "execute_result"
    }
   ],
   "source": [
    "sin.(x)"
   ]
  },
  {
   "cell_type": "markdown",
   "metadata": {},
   "source": [
    "matrix multiplication (no `.` since no longer element-wise)"
   ]
  },
  {
   "cell_type": "code",
   "execution_count": 47,
   "metadata": {},
   "outputs": [
    {
     "data": {
      "text/plain": [
       "3×3 Array{Float64,2}:\n",
       " 0.269557  0.355697  0.896255\n",
       " 0.533244  0.443607  0.848735\n",
       " 0.924767  0.780823  0.429421"
      ]
     },
     "execution_count": 47,
     "metadata": {},
     "output_type": "execute_result"
    }
   ],
   "source": [
    "A = rand(3, 3)\n",
    "A"
   ]
  },
  {
   "cell_type": "code",
   "execution_count": 48,
   "metadata": {},
   "outputs": [
    {
     "data": {
      "text/plain": [
       "3-element Array{Float64,1}:\n",
       " 2.1482069108349675\n",
       " 2.1410782242440467\n",
       " 1.6396650584812795"
      ]
     },
     "execution_count": 48,
     "metadata": {},
     "output_type": "execute_result"
    }
   ],
   "source": [
    "A * x"
   ]
  },
  {
   "cell_type": "markdown",
   "metadata": {},
   "source": [
    "### create your own data structure!"
   ]
  },
  {
   "cell_type": "code",
   "execution_count": 36,
   "metadata": {},
   "outputs": [
    {
     "data": {
      "text/plain": [
       "Molecule(:methane, Symbol[:C, :H, :H, :H])"
      ]
     },
     "execution_count": 36,
     "metadata": {},
     "output_type": "execute_result"
    }
   ],
   "source": [
    "struct Molecule\n",
    "    species::Symbol\n",
    "    atoms::Array{Symbol}\n",
    "end\n",
    "\n",
    "molecule = Molecule(:methane, [:C, :H, :H, :H])"
   ]
  },
  {
   "cell_type": "code",
   "execution_count": 37,
   "metadata": {},
   "outputs": [
    {
     "data": {
      "text/plain": [
       ":methane"
      ]
     },
     "execution_count": 37,
     "metadata": {},
     "output_type": "execute_result"
    }
   ],
   "source": [
    "molecule.species # access attributes"
   ]
  },
  {
   "cell_type": "markdown",
   "metadata": {},
   "source": [
    "## control flow"
   ]
  },
  {
   "cell_type": "code",
   "execution_count": 38,
   "metadata": {},
   "outputs": [
    {
     "name": "stdout",
     "output_type": "stream",
     "text": [
      "whoah that is flammable!\n"
     ]
    }
   ],
   "source": [
    "# molecule = Molecule(:nitrogen, 14.00, [:N, :N])\n",
    "\n",
    "if molecule.species == :methane\n",
    "    println(\"whoah that is flammable!\")\n",
    "elseif molecule.species == :nitrogen\n",
    "    println(\"no worries, not flammable.\")\n",
    "else\n",
    "    println(\"nothing to say\")\n",
    "end"
   ]
  },
  {
   "cell_type": "code",
   "execution_count": 39,
   "metadata": {},
   "outputs": [
    {
     "name": "stdout",
     "output_type": "stream",
     "text": [
      "x[1] = 2.0\n",
      "extreme!\n",
      "x[2] = 4.0\n",
      "x[3] = 6.0\n",
      "eureka!\n",
      "x[4] = 8.0\n",
      "x[5] = 10.0\n",
      "extreme!\n"
     ]
    }
   ],
   "source": [
    "for i = 1:length(x)\n",
    "    print(\"x[\")\n",
    "    print(i)\n",
    "    println(\"] = \", x[i])\n",
    "    if (x[i] > 5.0) && (x[i] < 7.0) # && means \"and\"\n",
    "        println(\"eureka!\")\n",
    "    end\n",
    "    if (x[i] < 3.0) || (x[i] > 8.0) # || means \"or\"\n",
    "        println(\"extreme!\")\n",
    "    end\n",
    "end"
   ]
  },
  {
   "cell_type": "markdown",
   "metadata": {},
   "source": [
    "## functions\n",
    "\n",
    "construction of a function $x \\mapsto f(x)$"
   ]
  },
  {
   "cell_type": "code",
   "execution_count": 51,
   "metadata": {},
   "outputs": [
    {
     "data": {
      "text/plain": [
       "7.0"
      ]
     },
     "execution_count": 51,
     "metadata": {},
     "output_type": "execute_result"
    }
   ],
   "source": [
    "# (1) inline (if a short function)\n",
    "f(x) = 2 * x + 3\n",
    "\n",
    "# (2) expanded (if more code involved)\n",
    "function f(x)\n",
    "    # maybe tons of code here until we get to what we want to return\n",
    "    return 2 * x + 3\n",
    "end\n",
    "\n",
    "f(2.0)"
   ]
  },
  {
   "cell_type": "markdown",
   "metadata": {},
   "source": [
    "multiple arguments"
   ]
  },
  {
   "cell_type": "code",
   "execution_count": 52,
   "metadata": {},
   "outputs": [
    {
     "data": {
      "text/plain": [
       "5.0"
      ]
     },
     "execution_count": 52,
     "metadata": {},
     "output_type": "execute_result"
    }
   ],
   "source": [
    "f(x, y) = x + y\n",
    "f(2.0, 3.0)"
   ]
  },
  {
   "cell_type": "markdown",
   "metadata": {},
   "source": [
    "optional arguments"
   ]
  },
  {
   "cell_type": "code",
   "execution_count": 53,
   "metadata": {},
   "outputs": [
    {
     "data": {
      "text/plain": [
       "2.0"
      ]
     },
     "execution_count": 53,
     "metadata": {},
     "output_type": "execute_result"
    }
   ],
   "source": [
    "f(x, m; b=0.0) = m * x + b\n",
    "f(2.0, 1.0)"
   ]
  },
  {
   "cell_type": "code",
   "execution_count": 54,
   "metadata": {},
   "outputs": [
    {
     "data": {
      "text/plain": [
       "25.0"
      ]
     },
     "execution_count": 54,
     "metadata": {},
     "output_type": "execute_result"
    }
   ],
   "source": [
    "f(2.0, 1.0, b=23.0) # have to say explicitly you're passing `b`"
   ]
  },
  {
   "cell_type": "code",
   "execution_count": 55,
   "metadata": {},
   "outputs": [
    {
     "data": {
      "text/plain": [
       "2.0"
      ]
     },
     "execution_count": 55,
     "metadata": {},
     "output_type": "execute_result"
    }
   ],
   "source": [
    "f(x, m, b=0.0) = m * x + b\n",
    "f(2.0, 1.0)"
   ]
  },
  {
   "cell_type": "code",
   "execution_count": 56,
   "metadata": {},
   "outputs": [
    {
     "data": {
      "text/plain": [
       "25.0"
      ]
     },
     "execution_count": 56,
     "metadata": {},
     "output_type": "execute_result"
    }
   ],
   "source": [
    "f(2.0, 1.0, 23.0) # the third argument is assumed `b` if passed"
   ]
  },
  {
   "cell_type": "markdown",
   "metadata": {},
   "source": [
    "asserting type, for speed & safety"
   ]
  },
  {
   "cell_type": "code",
   "execution_count": 57,
   "metadata": {},
   "outputs": [
    {
     "data": {
      "text/plain": [
       "4.0"
      ]
     },
     "execution_count": 57,
     "metadata": {},
     "output_type": "execute_result"
    }
   ],
   "source": [
    "g(x::Float64) = 2.0 * x\n",
    "g(2.0)"
   ]
  },
  {
   "cell_type": "code",
   "execution_count": 58,
   "metadata": {
    "scrolled": true
   },
   "outputs": [
    {
     "ename": "MethodError",
     "evalue": "MethodError: no method matching g(::Int64)\nClosest candidates are:\n  g(!Matched::Float64) at In[57]:1",
     "output_type": "error",
     "traceback": [
      "MethodError: no method matching g(::Int64)\nClosest candidates are:\n  g(!Matched::Float64) at In[57]:1",
      "",
      "Stacktrace:",
      " [1] top-level scope at In[58]:1"
     ]
    }
   ],
   "source": [
    "g(2)"
   ]
  },
  {
   "cell_type": "markdown",
   "metadata": {},
   "source": [
    "a function of our custom data structure `Molecule`!"
   ]
  },
  {
   "cell_type": "code",
   "execution_count": 59,
   "metadata": {},
   "outputs": [
    {
     "data": {
      "text/plain": [
       "15.033999999999999"
      ]
     },
     "execution_count": 59,
     "metadata": {},
     "output_type": "execute_result"
    }
   ],
   "source": [
    "function molecular_wt(molecule::Molecule)\n",
    "    mw = 0.0\n",
    "    for atom in molecule.atoms\n",
    "        mw += atomic_mass[atom]\n",
    "    end\n",
    "    return mw\n",
    "end\n",
    "\n",
    "molecular_wt(molecule)"
   ]
  },
  {
   "cell_type": "markdown",
   "metadata": {},
   "source": [
    "safety: pass the wrong type, then you get an error"
   ]
  },
  {
   "cell_type": "code",
   "execution_count": 61,
   "metadata": {},
   "outputs": [
    {
     "ename": "MethodError",
     "evalue": "MethodError: no method matching molecular_wt(::String)\nClosest candidates are:\n  molecular_wt(!Matched::Molecule) at In[59]:2",
     "output_type": "error",
     "traceback": [
      "MethodError: no method matching molecular_wt(::String)\nClosest candidates are:\n  molecular_wt(!Matched::Molecule) at In[59]:2",
      "",
      "Stacktrace:",
      " [1] top-level scope at In[61]:1"
     ]
    }
   ],
   "source": [
    "molecular_wt(\"not a molecule\")"
   ]
  },
  {
   "cell_type": "markdown",
   "metadata": {},
   "source": [
    "remember, put a `!` at the end of the function name to denote that it will modify its argument"
   ]
  },
  {
   "cell_type": "code",
   "execution_count": 62,
   "metadata": {},
   "outputs": [
    {
     "data": {
      "text/plain": [
       "3-element Array{Int64,1}:\n",
       " 0\n",
       " 0\n",
       " 6"
      ]
     },
     "execution_count": 62,
     "metadata": {},
     "output_type": "execute_result"
    }
   ],
   "source": [
    "y = [0, 5, 6]\n",
    "function make_second_element_zero!(y::Array{Int64})\n",
    "    y[2] = 0\n",
    "end\n",
    "make_second_element_zero!(y)\n",
    "y"
   ]
  },
  {
   "cell_type": "markdown",
   "metadata": {},
   "source": [
    "## randomness, sampling\n",
    "a uniform random number in $[0, 1]$"
   ]
  },
  {
   "cell_type": "code",
   "execution_count": 63,
   "metadata": {},
   "outputs": [],
   "source": [
    "using Random\n",
    "using StatsBase"
   ]
  },
  {
   "cell_type": "code",
   "execution_count": 64,
   "metadata": {},
   "outputs": [
    {
     "data": {
      "text/plain": [
       "0.5365403341358983"
      ]
     },
     "execution_count": 64,
     "metadata": {},
     "output_type": "execute_result"
    }
   ],
   "source": [
    "rand()"
   ]
  },
  {
   "cell_type": "markdown",
   "metadata": {},
   "source": [
    "flipping a coin. did it land on tails?"
   ]
  },
  {
   "cell_type": "code",
   "execution_count": 65,
   "metadata": {},
   "outputs": [
    {
     "data": {
      "text/plain": [
       "true"
      ]
     },
     "execution_count": 65,
     "metadata": {},
     "output_type": "execute_result"
    }
   ],
   "source": [
    "landed_on_tails = rand() < 0.5"
   ]
  },
  {
   "cell_type": "markdown",
   "metadata": {},
   "source": [
    "a Gaussian number"
   ]
  },
  {
   "cell_type": "code",
   "execution_count": 66,
   "metadata": {},
   "outputs": [
    {
     "data": {
      "text/plain": [
       "-0.9180134018955154"
      ]
     },
     "execution_count": 66,
     "metadata": {},
     "output_type": "execute_result"
    }
   ],
   "source": [
    "randn()"
   ]
  },
  {
   "cell_type": "markdown",
   "metadata": {},
   "source": [
    "randomly shuffle an array"
   ]
  },
  {
   "cell_type": "code",
   "execution_count": 67,
   "metadata": {},
   "outputs": [
    {
     "data": {
      "text/plain": [
       "6-element Array{Int64,1}:\n",
       " 5\n",
       " 1\n",
       " 2\n",
       " 4\n",
       " 3\n",
       " 6"
      ]
     },
     "execution_count": 67,
     "metadata": {},
     "output_type": "execute_result"
    }
   ],
   "source": [
    "x = [1, 2, 3, 4, 5, 6]\n",
    "shuffle!(x)\n",
    "x"
   ]
  },
  {
   "cell_type": "markdown",
   "metadata": {},
   "source": [
    "randomly select 4 elements of the array, with/without replacement"
   ]
  },
  {
   "cell_type": "code",
   "execution_count": 69,
   "metadata": {},
   "outputs": [
    {
     "data": {
      "text/plain": [
       "4-element Array{Int64,1}:\n",
       " 2\n",
       " 1\n",
       " 5\n",
       " 5"
      ]
     },
     "execution_count": 69,
     "metadata": {},
     "output_type": "execute_result"
    }
   ],
   "source": [
    "sample(x, 4, replace=true)"
   ]
  },
  {
   "cell_type": "code",
   "execution_count": 70,
   "metadata": {},
   "outputs": [
    {
     "data": {
      "text/plain": [
       "4-element Array{Int64,1}:\n",
       " 1\n",
       " 2\n",
       " 4\n",
       " 5"
      ]
     },
     "execution_count": 70,
     "metadata": {},
     "output_type": "execute_result"
    }
   ],
   "source": [
    "sample(x, 4, replace=false)"
   ]
  },
  {
   "cell_type": "markdown",
   "metadata": {},
   "source": [
    "simulate the weather when today's weather forcast is: 10% rain, 60% clouds, 30% sun"
   ]
  },
  {
   "cell_type": "code",
   "execution_count": 71,
   "metadata": {},
   "outputs": [
    {
     "data": {
      "text/plain": [
       "\"cloudy\""
      ]
     },
     "execution_count": 71,
     "metadata": {},
     "output_type": "execute_result"
    }
   ],
   "source": [
    "sample([\"rainy\", \"cloudy\", \"sunny\"], ProbabilityWeights([0.1, 0.6, 0.3]))"
   ]
  }
 ],
 "metadata": {
  "@webio": {
   "lastCommId": "6b29364140004012b6baeff098260c3e",
   "lastKernelId": "4757fddf-084d-4f36-b6b0-1d046a25fd2a"
  },
  "kernelspec": {
   "display_name": "Julia 1.2.0",
   "language": "julia",
   "name": "julia-1.2"
  },
  "language_info": {
   "file_extension": ".jl",
   "mimetype": "application/julia",
   "name": "julia",
   "version": "1.2.0"
  }
 },
 "nbformat": 4,
 "nbformat_minor": 2
}
