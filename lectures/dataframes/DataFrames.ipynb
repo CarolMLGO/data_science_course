{
 "cells": [
  {
   "cell_type": "markdown",
   "metadata": {},
   "source": [
    "# DataFrames\n",
    "\n",
    "* a `DataFrame` is a popular data structure (in many languages) for storing data in tabular form (rows, columns)\n",
    "* the Julia package `DataFrames.jl` has many functions that operate on `DataFrames` that allow us to quickly query and manipulate data\n",
    "* it can handle missing values efficiently\n",
    "* the Julia package `CSV.jl` allows us to quickly and flexibly read/write CSV (= comma-separated value) files from/to `DataFrame`s\n",
    "\n",
    "You need to install these packages:\n",
    "```julia\n",
    "using Pkg\n",
    "Pkg.add(\"DataFrames\")\n",
    "Pkg.add(\"CSV\")\n",
    "```\n",
    "or, for pros, open a Julia [REPL](https://en.wikipedia.org/wiki/Read–eval–print_loop), hit the `]` key to go into package mode, then `add DataFrames CSV`.\n",
    "\n",
    "* `DataFrames.jl` [documentation](http://juliadata.github.io/DataFrames.jl/stable/)\n",
    "* `CSV.jl` [documentation](https://juliadata.github.io/CSV.jl/stable/)"
   ]
  },
  {
   "cell_type": "code",
   "execution_count": 57,
   "metadata": {},
   "outputs": [],
   "source": [
    "# always list packages you use at the top\n",
    "using DataFrames # load into namespace all of the functions, data types, variables from the `DataFrames` package\n",
    "using CSV\n",
    "using Printf # for print formating"
   ]
  },
  {
   "cell_type": "markdown",
   "metadata": {},
   "source": [
    "## construct a `DataFrame`"
   ]
  },
  {
   "cell_type": "code",
   "execution_count": 45,
   "metadata": {},
   "outputs": [
    {
     "data": {
      "text/html": [
       "<table class=\"data-frame\"><thead><tr><th></th><th>city</th><th>population</th></tr><tr><th></th><th>String</th><th>Int64</th></tr></thead><tbody><p>3 rows × 2 columns</p><tr><th>1</th><td>Corvallis</td><td>57961</td></tr><tr><th>2</th><td>Portland</td><td>647805</td></tr><tr><th>3</th><td>Eugene</td><td>168916</td></tr></tbody></table>"
      ],
      "text/latex": [
       "\\begin{tabular}{r|cc}\n",
       "\t& city & population\\\\\n",
       "\t\\hline\n",
       "\t& String & Int64\\\\\n",
       "\t\\hline\n",
       "\t1 & Corvallis & 57961 \\\\\n",
       "\t2 & Portland & 647805 \\\\\n",
       "\t3 & Eugene & 168916 \\\\\n",
       "\\end{tabular}\n"
      ],
      "text/plain": [
       "3×2 DataFrame\n",
       "│ Row │ city      │ population │\n",
       "│     │ \u001b[90mString\u001b[39m    │ \u001b[90mInt64\u001b[39m      │\n",
       "├─────┼───────────┼────────────┤\n",
       "│ 1   │ Corvallis │ 57961      │\n",
       "│ 2   │ Portland  │ 647805     │\n",
       "│ 3   │ Eugene    │ 168916     │"
      ]
     },
     "execution_count": 45,
     "metadata": {},
     "output_type": "execute_result"
    }
   ],
   "source": [
    "city = [\"Corvallis\", \"Portland\", \"Eugene\"]\n",
    "population = [57961, 647805, 168916]\n",
    "\n",
    "df_cities = DataFrame(city=city, population=population)\n",
    "\n",
    "# this works too of course:\n",
    "#   df_cities = DataFrame(city=[\"Corvallis\", \"Portland\", \"Eugene\"], population=[57961, 647805, 168916])"
   ]
  },
  {
   "cell_type": "markdown",
   "metadata": {},
   "source": [
    "## add rows to a `DataFrame`\n",
    "\n",
    "array-style (must memorize order)"
   ]
  },
  {
   "cell_type": "code",
   "execution_count": 46,
   "metadata": {},
   "outputs": [
    {
     "data": {
      "text/html": [
       "<table class=\"data-frame\"><thead><tr><th></th><th>city</th><th>population</th></tr><tr><th></th><th>String</th><th>Int64</th></tr></thead><tbody><p>4 rows × 2 columns</p><tr><th>1</th><td>Corvallis</td><td>57961</td></tr><tr><th>2</th><td>Portland</td><td>647805</td></tr><tr><th>3</th><td>Eugene</td><td>168916</td></tr><tr><th>4</th><td>Bend</td><td>94520</td></tr></tbody></table>"
      ],
      "text/latex": [
       "\\begin{tabular}{r|cc}\n",
       "\t& city & population\\\\\n",
       "\t\\hline\n",
       "\t& String & Int64\\\\\n",
       "\t\\hline\n",
       "\t1 & Corvallis & 57961 \\\\\n",
       "\t2 & Portland & 647805 \\\\\n",
       "\t3 & Eugene & 168916 \\\\\n",
       "\t4 & Bend & 94520 \\\\\n",
       "\\end{tabular}\n"
      ],
      "text/plain": [
       "4×2 DataFrame\n",
       "│ Row │ city      │ population │\n",
       "│     │ \u001b[90mString\u001b[39m    │ \u001b[90mInt64\u001b[39m      │\n",
       "├─────┼───────────┼────────────┤\n",
       "│ 1   │ Corvallis │ 57961      │\n",
       "│ 2   │ Portland  │ 647805     │\n",
       "│ 3   │ Eugene    │ 168916     │\n",
       "│ 4   │ Bend      │ 94520      │"
      ]
     },
     "execution_count": 46,
     "metadata": {},
     "output_type": "execute_result"
    }
   ],
   "source": [
    "push!(df_cities, [\"Bend\", 94520])\n",
    "df_cities"
   ]
  },
  {
   "cell_type": "markdown",
   "metadata": {},
   "source": [
    "dictionary style (no need to memorize order)"
   ]
  },
  {
   "cell_type": "code",
   "execution_count": 47,
   "metadata": {
    "scrolled": true
   },
   "outputs": [
    {
     "data": {
      "text/html": [
       "<table class=\"data-frame\"><thead><tr><th></th><th>city</th><th>population</th></tr><tr><th></th><th>String</th><th>Int64</th></tr></thead><tbody><p>5 rows × 2 columns</p><tr><th>1</th><td>Corvallis</td><td>57961</td></tr><tr><th>2</th><td>Portland</td><td>647805</td></tr><tr><th>3</th><td>Eugene</td><td>168916</td></tr><tr><th>4</th><td>Bend</td><td>94520</td></tr><tr><th>5</th><td>Berkeley</td><td>122324</td></tr></tbody></table>"
      ],
      "text/latex": [
       "\\begin{tabular}{r|cc}\n",
       "\t& city & population\\\\\n",
       "\t\\hline\n",
       "\t& String & Int64\\\\\n",
       "\t\\hline\n",
       "\t1 & Corvallis & 57961 \\\\\n",
       "\t2 & Portland & 647805 \\\\\n",
       "\t3 & Eugene & 168916 \\\\\n",
       "\t4 & Bend & 94520 \\\\\n",
       "\t5 & Berkeley & 122324 \\\\\n",
       "\\end{tabular}\n"
      ],
      "text/plain": [
       "5×2 DataFrame\n",
       "│ Row │ city      │ population │\n",
       "│     │ \u001b[90mString\u001b[39m    │ \u001b[90mInt64\u001b[39m      │\n",
       "├─────┼───────────┼────────────┤\n",
       "│ 1   │ Corvallis │ 57961      │\n",
       "│ 2   │ Portland  │ 647805     │\n",
       "│ 3   │ Eugene    │ 168916     │\n",
       "│ 4   │ Bend      │ 94520      │\n",
       "│ 5   │ Berkeley  │ 122324     │"
      ]
     },
     "execution_count": 47,
     "metadata": {},
     "output_type": "execute_result"
    }
   ],
   "source": [
    "push!(df_cities, Dict(:population => 122324, :city => \"Berkeley\"))\n",
    "df_cities"
   ]
  },
  {
   "cell_type": "markdown",
   "metadata": {},
   "source": [
    "## add columns to the `DataFrame`"
   ]
  },
  {
   "cell_type": "code",
   "execution_count": 49,
   "metadata": {},
   "outputs": [
    {
     "data": {
      "text/html": [
       "<table class=\"data-frame\"><thead><tr><th></th><th>city</th><th>population</th><th>state</th></tr><tr><th></th><th>String</th><th>Int64</th><th>String</th></tr></thead><tbody><p>5 rows × 3 columns</p><tr><th>1</th><td>Corvallis</td><td>57961</td><td>Oregon</td></tr><tr><th>2</th><td>Portland</td><td>647805</td><td>Oregon</td></tr><tr><th>3</th><td>Eugene</td><td>168916</td><td>Oregon</td></tr><tr><th>4</th><td>Bend</td><td>94520</td><td>Oregon</td></tr><tr><th>5</th><td>Berkeley</td><td>122324</td><td>California</td></tr></tbody></table>"
      ],
      "text/latex": [
       "\\begin{tabular}{r|ccc}\n",
       "\t& city & population & state\\\\\n",
       "\t\\hline\n",
       "\t& String & Int64 & String\\\\\n",
       "\t\\hline\n",
       "\t1 & Corvallis & 57961 & Oregon \\\\\n",
       "\t2 & Portland & 647805 & Oregon \\\\\n",
       "\t3 & Eugene & 168916 & Oregon \\\\\n",
       "\t4 & Bend & 94520 & Oregon \\\\\n",
       "\t5 & Berkeley & 122324 & California \\\\\n",
       "\\end{tabular}\n"
      ],
      "text/plain": [
       "5×3 DataFrame\n",
       "│ Row │ city      │ population │ state      │\n",
       "│     │ \u001b[90mString\u001b[39m    │ \u001b[90mInt64\u001b[39m      │ \u001b[90mString\u001b[39m     │\n",
       "├─────┼───────────┼────────────┼────────────┤\n",
       "│ 1   │ Corvallis │ 57961      │ Oregon     │\n",
       "│ 2   │ Portland  │ 647805     │ Oregon     │\n",
       "│ 3   │ Eugene    │ 168916     │ Oregon     │\n",
       "│ 4   │ Bend      │ 94520      │ Oregon     │\n",
       "│ 5   │ Berkeley  │ 122324     │ California │"
      ]
     },
     "execution_count": 49,
     "metadata": {},
     "output_type": "execute_result"
    }
   ],
   "source": [
    "df_cities[!, :state] = vcat([\"Oregon\" for i = 1:4], [\"California\"])\n",
    "df_cities"
   ]
  },
  {
   "cell_type": "markdown",
   "metadata": {},
   "source": [
    "## how many (rows, columns)?"
   ]
  },
  {
   "cell_type": "code",
   "execution_count": 50,
   "metadata": {},
   "outputs": [
    {
     "data": {
      "text/plain": [
       "(5, 3)"
      ]
     },
     "execution_count": 50,
     "metadata": {},
     "output_type": "execute_result"
    }
   ],
   "source": [
    "size(df_cities) # size(df_cities)[1] = # rows, size(df_cities)[2] = # cols "
   ]
  },
  {
   "cell_type": "markdown",
   "metadata": {},
   "source": [
    "## what are the column names?\n",
    "note that the column names are always symbols! if you have a fancy `String` you want to convert into a `Symbol`, simply e.g. `Symbol(\"avg salary (USD)\")` will convert the `String` `\"avg salary (USD)\"` to a `Symbol`."
   ]
  },
  {
   "cell_type": "code",
   "execution_count": 51,
   "metadata": {},
   "outputs": [
    {
     "data": {
      "text/plain": [
       "3-element Array{Symbol,1}:\n",
       " :city      \n",
       " :population\n",
       " :state     "
      ]
     },
     "execution_count": 51,
     "metadata": {},
     "output_type": "execute_result"
    }
   ],
   "source": [
    "names(df_cities) # will be very handy when there are *many* columns"
   ]
  },
  {
   "cell_type": "markdown",
   "metadata": {},
   "source": [
    "## iterate through the rows of a `DataFrame`"
   ]
  },
  {
   "cell_type": "code",
   "execution_count": 61,
   "metadata": {},
   "outputs": [
    {
     "name": "stdout",
     "output_type": "stream",
     "text": [
      "population of Corvallis, Oregon is 57961\n",
      "population of Portland, Oregon is 647805\n",
      "population of Eugene, Oregon is 168916\n",
      "population of Bend, Oregon is 94520\n",
      "population of Berkeley, California is 122324\n"
     ]
    }
   ],
   "source": [
    "for row in eachrow(df_cities)\n",
    "    # inside the loop, we have a row (representing a data point)\n",
    "    # and we can call whatever attribute of that data point we want\n",
    "    @printf(\"population of %s, %s is %d\\n\", row[:city], row[:state], row[:population])\n",
    "end"
   ]
  },
  {
   "cell_type": "markdown",
   "metadata": {},
   "source": [
    "## iterate through groups in a `DataFrame`\n",
    "the `groupby` command (common in many languages) partitions the rows in the `DataFrame` into multiple `DataFrame`s such that the rows in each `DataFrame` share a common attribute.\n",
    "\n",
    "for example, we aim to group the cities by state"
   ]
  },
  {
   "cell_type": "code",
   "execution_count": 73,
   "metadata": {},
   "outputs": [
    {
     "data": {
      "text/html": [
       "<p><b>GroupedDataFrame with 2 groups based on key: state</b></p><p><i>First Group (4 rows): state = \"Oregon\"</i></p><table class=\"data-frame\"><thead><tr><th></th><th>city</th><th>population</th><th>state</th></tr><tr><th></th><th>String</th><th>Int64</th><th>String</th></tr></thead><tbody><tr><th>1</th><td>Portland</td><td>647805</td><td>Oregon</td></tr><tr><th>2</th><td>Eugene</td><td>168916</td><td>Oregon</td></tr><tr><th>3</th><td>Bend</td><td>94520</td><td>Oregon</td></tr><tr><th>4</th><td>Corvallis</td><td>57961</td><td>Oregon</td></tr></tbody></table><p>&vellip;</p><p><i>Last Group (1 row): state = \"California\"</i></p><table class=\"data-frame\"><thead><tr><th></th><th>city</th><th>population</th><th>state</th></tr><tr><th></th><th>String</th><th>Int64</th><th>String</th></tr></thead><tbody><tr><th>1</th><td>Berkeley</td><td>122324</td><td>California</td></tr></tbody></table>"
      ],
      "text/latex": [
       "GroupedDataFrame with 2 groups based on key: state\n",
       "\n",
       "First Group (4 rows): state = \"Oregon\"\n",
       "\n",
       "\\begin{tabular}{r|ccc}\n",
       "\t& city & population & state\\\\\n",
       "\t\\hline\n",
       "\t& String & Int64 & String\\\\\n",
       "\t\\hline\n",
       "\t1 & Portland & 647805 & Oregon \\\\\n",
       "\t2 & Eugene & 168916 & Oregon \\\\\n",
       "\t3 & Bend & 94520 & Oregon \\\\\n",
       "\t4 & Corvallis & 57961 & Oregon \\\\\n",
       "\\end{tabular}\n",
       "\n",
       "$\\dots$\n",
       "\n",
       "Last Group (1 row): state = \"California\"\n",
       "\n",
       "\\begin{tabular}{r|ccc}\n",
       "\t& city & population & state\\\\\n",
       "\t\\hline\n",
       "\t& String & Int64 & String\\\\\n",
       "\t\\hline\n",
       "\t1 & Berkeley & 122324 & California \\\\\n",
       "\\end{tabular}\n"
      ],
      "text/plain": [
       "GroupedDataFrame with 2 groups based on key: state\n",
       "First Group (4 rows): state = \"Oregon\"\n",
       "│ Row │ city      │ population │ state  │\n",
       "│     │ \u001b[90mString\u001b[39m    │ \u001b[90mInt64\u001b[39m      │ \u001b[90mString\u001b[39m │\n",
       "├─────┼───────────┼────────────┼────────┤\n",
       "│ 1   │ Portland  │ 647805     │ Oregon │\n",
       "│ 2   │ Eugene    │ 168916     │ Oregon │\n",
       "│ 3   │ Bend      │ 94520      │ Oregon │\n",
       "│ 4   │ Corvallis │ 57961      │ Oregon │\n",
       "⋮\n",
       "Last Group (1 row): state = \"California\"\n",
       "│ Row │ city     │ population │ state      │\n",
       "│     │ \u001b[90mString\u001b[39m   │ \u001b[90mInt64\u001b[39m      │ \u001b[90mString\u001b[39m     │\n",
       "├─────┼──────────┼────────────┼────────────┤\n",
       "│ 1   │ Berkeley │ 122324     │ California │"
      ]
     },
     "execution_count": 73,
     "metadata": {},
     "output_type": "execute_result"
    }
   ],
   "source": [
    "gb_state = groupby(df_cities, :state)"
   ]
  },
  {
   "cell_type": "code",
   "execution_count": 75,
   "metadata": {},
   "outputs": [
    {
     "name": "stdout",
     "output_type": "stream",
     "text": [
      "Oregon has 4 cities in this dataset.\n",
      "California has 1 cities in this dataset.\n"
     ]
    }
   ],
   "source": [
    "for df_by_state in gb_state\n",
    "    this_state = df_by_state[1, :state]\n",
    "    nb_cities_in_this_state = size(df_by_state)[1]\n",
    "    \n",
    "    @printf(\"%s has %d cities in this dataset.\\n\", this_state, nb_cities_in_this_state)\n",
    "end"
   ]
  },
  {
   "cell_type": "markdown",
   "metadata": {},
   "source": [
    "## retreive a column from a dataframe\n",
    "the columns are `Array`s!"
   ]
  },
  {
   "cell_type": "code",
   "execution_count": 101,
   "metadata": {},
   "outputs": [
    {
     "data": {
      "text/plain": [
       "5-element Array{Int64,1}:\n",
       " 647805\n",
       " 168916\n",
       " 122324\n",
       "  94520\n",
       "  57961"
      ]
     },
     "execution_count": 101,
     "metadata": {},
     "output_type": "execute_result"
    }
   ],
   "source": [
    "# (1) treating the DataFrame like a multi-dimensional array\n",
    "df_cities[!, :population] # ! = all the rows"
   ]
  },
  {
   "cell_type": "code",
   "execution_count": 102,
   "metadata": {},
   "outputs": [
    {
     "data": {
      "text/plain": [
       "5-element Array{Int64,1}:\n",
       " 647805\n",
       " 168916\n",
       " 122324\n",
       "  94520\n",
       "  57961"
      ]
     },
     "execution_count": 102,
     "metadata": {},
     "output_type": "execute_result"
    }
   ],
   "source": [
    "# (2) treating the DataFrame like a `Struct`\n",
    "df_cities.population"
   ]
  },
  {
   "cell_type": "markdown",
   "metadata": {},
   "source": [
    "## retreive a row"
   ]
  },
  {
   "cell_type": "code",
   "execution_count": 77,
   "metadata": {},
   "outputs": [
    {
     "data": {
      "text/html": [
       "<p>DataFrameRow (3 columns)</p><table class=\"data-frame\"><thead><tr><th></th><th>city</th><th>population</th><th>state</th></tr><tr><th></th><th>String</th><th>Int64</th><th>String</th></tr></thead><tbody><tr><th>2</th><td>Eugene</td><td>168916</td><td>Oregon</td></tr></tbody></table>"
      ],
      "text/latex": [
       "\\begin{tabular}{r|ccc}\n",
       "\t& city & population & state\\\\\n",
       "\t\\hline\n",
       "\t& String & Int64 & String\\\\\n",
       "\t\\hline\n",
       "\t2 & Eugene & 168916 & Oregon \\\\\n",
       "\\end{tabular}\n"
      ],
      "text/plain": [
       "DataFrameRow\n",
       "│ Row │ city   │ population │ state  │\n",
       "│     │ \u001b[90mString\u001b[39m │ \u001b[90mInt64\u001b[39m      │ \u001b[90mString\u001b[39m │\n",
       "├─────┼────────┼────────────┼────────┤\n",
       "│ 2   │ Eugene │ 168916     │ Oregon │"
      ]
     },
     "execution_count": 77,
     "metadata": {},
     "output_type": "execute_result"
    }
   ],
   "source": [
    "df_cities[2, :]"
   ]
  },
  {
   "cell_type": "markdown",
   "metadata": {},
   "source": [
    "## retreive a combination of rows/columns"
   ]
  },
  {
   "cell_type": "markdown",
   "metadata": {},
   "source": [
    "like an array, we can retreive, say, the first 3 rows and only the `:population` and `:city` columns"
   ]
  },
  {
   "cell_type": "code",
   "execution_count": 78,
   "metadata": {},
   "outputs": [
    {
     "data": {
      "text/html": [
       "<table class=\"data-frame\"><thead><tr><th></th><th>population</th><th>city</th></tr><tr><th></th><th>Int64</th><th>String</th></tr></thead><tbody><p>3 rows × 2 columns</p><tr><th>1</th><td>647805</td><td>Portland</td></tr><tr><th>2</th><td>168916</td><td>Eugene</td></tr><tr><th>3</th><td>122324</td><td>Berkeley</td></tr></tbody></table>"
      ],
      "text/latex": [
       "\\begin{tabular}{r|cc}\n",
       "\t& population & city\\\\\n",
       "\t\\hline\n",
       "\t& Int64 & String\\\\\n",
       "\t\\hline\n",
       "\t1 & 647805 & Portland \\\\\n",
       "\t2 & 168916 & Eugene \\\\\n",
       "\t3 & 122324 & Berkeley \\\\\n",
       "\\end{tabular}\n"
      ],
      "text/plain": [
       "3×2 DataFrame\n",
       "│ Row │ population │ city     │\n",
       "│     │ \u001b[90mInt64\u001b[39m      │ \u001b[90mString\u001b[39m   │\n",
       "├─────┼────────────┼──────────┤\n",
       "│ 1   │ 647805     │ Portland │\n",
       "│ 2   │ 168916     │ Eugene   │\n",
       "│ 3   │ 122324     │ Berkeley │"
      ]
     },
     "execution_count": 78,
     "metadata": {},
     "output_type": "execute_result"
    }
   ],
   "source": [
    "df_cities[1:3, [:population, :city]]"
   ]
  },
  {
   "cell_type": "markdown",
   "metadata": {},
   "source": [
    "so dataframes behave like arrays except their columns are labeled and queried by a `Symbol`"
   ]
  },
  {
   "cell_type": "markdown",
   "metadata": {},
   "source": [
    "## querying a dataframe\n",
    "\n",
    "all the rows where the city is listed as \"Corvallis\""
   ]
  },
  {
   "cell_type": "code",
   "execution_count": 79,
   "metadata": {},
   "outputs": [
    {
     "data": {
      "text/html": [
       "<table class=\"data-frame\"><thead><tr><th></th><th>city</th><th>population</th><th>state</th></tr><tr><th></th><th>String</th><th>Int64</th><th>String</th></tr></thead><tbody><p>1 rows × 3 columns</p><tr><th>1</th><td>Corvallis</td><td>57961</td><td>Oregon</td></tr></tbody></table>"
      ],
      "text/latex": [
       "\\begin{tabular}{r|ccc}\n",
       "\t& city & population & state\\\\\n",
       "\t\\hline\n",
       "\t& String & Int64 & String\\\\\n",
       "\t\\hline\n",
       "\t1 & Corvallis & 57961 & Oregon \\\\\n",
       "\\end{tabular}\n"
      ],
      "text/plain": [
       "1×3 DataFrame\n",
       "│ Row │ city      │ population │ state  │\n",
       "│     │ \u001b[90mString\u001b[39m    │ \u001b[90mInt64\u001b[39m      │ \u001b[90mString\u001b[39m │\n",
       "├─────┼───────────┼────────────┼────────┤\n",
       "│ 1   │ Corvallis │ 57961      │ Oregon │"
      ]
     },
     "execution_count": 79,
     "metadata": {},
     "output_type": "execute_result"
    }
   ],
   "source": [
    "df_cities[df_cities[!, :city] .== \"Corvallis\", :] # like array slicing with array of bits"
   ]
  },
  {
   "cell_type": "markdown",
   "metadata": {},
   "source": [
    "all the rows where the population is less than 500,000"
   ]
  },
  {
   "cell_type": "code",
   "execution_count": 80,
   "metadata": {},
   "outputs": [
    {
     "data": {
      "text/html": [
       "<table class=\"data-frame\"><thead><tr><th></th><th>city</th><th>population</th><th>state</th></tr><tr><th></th><th>String</th><th>Int64</th><th>String</th></tr></thead><tbody><p>4 rows × 3 columns</p><tr><th>1</th><td>Eugene</td><td>168916</td><td>Oregon</td></tr><tr><th>2</th><td>Berkeley</td><td>122324</td><td>California</td></tr><tr><th>3</th><td>Bend</td><td>94520</td><td>Oregon</td></tr><tr><th>4</th><td>Corvallis</td><td>57961</td><td>Oregon</td></tr></tbody></table>"
      ],
      "text/latex": [
       "\\begin{tabular}{r|ccc}\n",
       "\t& city & population & state\\\\\n",
       "\t\\hline\n",
       "\t& String & Int64 & String\\\\\n",
       "\t\\hline\n",
       "\t1 & Eugene & 168916 & Oregon \\\\\n",
       "\t2 & Berkeley & 122324 & California \\\\\n",
       "\t3 & Bend & 94520 & Oregon \\\\\n",
       "\t4 & Corvallis & 57961 & Oregon \\\\\n",
       "\\end{tabular}\n"
      ],
      "text/plain": [
       "4×3 DataFrame\n",
       "│ Row │ city      │ population │ state      │\n",
       "│     │ \u001b[90mString\u001b[39m    │ \u001b[90mInt64\u001b[39m      │ \u001b[90mString\u001b[39m     │\n",
       "├─────┼───────────┼────────────┼────────────┤\n",
       "│ 1   │ Eugene    │ 168916     │ Oregon     │\n",
       "│ 2   │ Berkeley  │ 122324     │ California │\n",
       "│ 3   │ Bend      │ 94520      │ Oregon     │\n",
       "│ 4   │ Corvallis │ 57961      │ Oregon     │"
      ]
     },
     "execution_count": 80,
     "metadata": {},
     "output_type": "execute_result"
    }
   ],
   "source": [
    "df_cities[df_cities[!, :population] .< 500000, :] # like array slicing with array of bits"
   ]
  },
  {
   "cell_type": "markdown",
   "metadata": {},
   "source": [
    "all the rows where cities are in the state of Oregon\n",
    "\n",
    "... this time let's use the `filter` function, where we first pass a function that operates on a row of the data frame and is true or false, true iff we want to keep the row\n",
    "\n",
    "there is also a `filter!` function that will remove these rows from the dataframe instead of returning a copy with the rows removed"
   ]
  },
  {
   "cell_type": "code",
   "execution_count": 81,
   "metadata": {},
   "outputs": [
    {
     "data": {
      "text/html": [
       "<table class=\"data-frame\"><thead><tr><th></th><th>city</th><th>population</th><th>state</th></tr><tr><th></th><th>String</th><th>Int64</th><th>String</th></tr></thead><tbody><p>4 rows × 3 columns</p><tr><th>1</th><td>Portland</td><td>647805</td><td>Oregon</td></tr><tr><th>2</th><td>Eugene</td><td>168916</td><td>Oregon</td></tr><tr><th>3</th><td>Bend</td><td>94520</td><td>Oregon</td></tr><tr><th>4</th><td>Corvallis</td><td>57961</td><td>Oregon</td></tr></tbody></table>"
      ],
      "text/latex": [
       "\\begin{tabular}{r|ccc}\n",
       "\t& city & population & state\\\\\n",
       "\t\\hline\n",
       "\t& String & Int64 & String\\\\\n",
       "\t\\hline\n",
       "\t1 & Portland & 647805 & Oregon \\\\\n",
       "\t2 & Eugene & 168916 & Oregon \\\\\n",
       "\t3 & Bend & 94520 & Oregon \\\\\n",
       "\t4 & Corvallis & 57961 & Oregon \\\\\n",
       "\\end{tabular}\n"
      ],
      "text/plain": [
       "4×3 DataFrame\n",
       "│ Row │ city      │ population │ state  │\n",
       "│     │ \u001b[90mString\u001b[39m    │ \u001b[90mInt64\u001b[39m      │ \u001b[90mString\u001b[39m │\n",
       "├─────┼───────────┼────────────┼────────┤\n",
       "│ 1   │ Portland  │ 647805     │ Oregon │\n",
       "│ 2   │ Eugene    │ 168916     │ Oregon │\n",
       "│ 3   │ Bend      │ 94520      │ Oregon │\n",
       "│ 4   │ Corvallis │ 57961      │ Oregon │"
      ]
     },
     "execution_count": 81,
     "metadata": {},
     "output_type": "execute_result"
    }
   ],
   "source": [
    "filter(row -> row[:state] == \"Oregon\", df_cities)"
   ]
  },
  {
   "cell_type": "markdown",
   "metadata": {},
   "source": [
    "## sorting a dataframe\n",
    "\n",
    "e.g. permute rows so that cities are listed by population in reverse order"
   ]
  },
  {
   "cell_type": "code",
   "execution_count": 82,
   "metadata": {
    "scrolled": false
   },
   "outputs": [
    {
     "data": {
      "text/html": [
       "<table class=\"data-frame\"><thead><tr><th></th><th>city</th><th>population</th><th>state</th></tr><tr><th></th><th>String</th><th>Int64</th><th>String</th></tr></thead><tbody><p>5 rows × 3 columns</p><tr><th>1</th><td>Portland</td><td>647805</td><td>Oregon</td></tr><tr><th>2</th><td>Eugene</td><td>168916</td><td>Oregon</td></tr><tr><th>3</th><td>Berkeley</td><td>122324</td><td>California</td></tr><tr><th>4</th><td>Bend</td><td>94520</td><td>Oregon</td></tr><tr><th>5</th><td>Corvallis</td><td>57961</td><td>Oregon</td></tr></tbody></table>"
      ],
      "text/latex": [
       "\\begin{tabular}{r|ccc}\n",
       "\t& city & population & state\\\\\n",
       "\t\\hline\n",
       "\t& String & Int64 & String\\\\\n",
       "\t\\hline\n",
       "\t1 & Portland & 647805 & Oregon \\\\\n",
       "\t2 & Eugene & 168916 & Oregon \\\\\n",
       "\t3 & Berkeley & 122324 & California \\\\\n",
       "\t4 & Bend & 94520 & Oregon \\\\\n",
       "\t5 & Corvallis & 57961 & Oregon \\\\\n",
       "\\end{tabular}\n"
      ],
      "text/plain": [
       "5×3 DataFrame\n",
       "│ Row │ city      │ population │ state      │\n",
       "│     │ \u001b[90mString\u001b[39m    │ \u001b[90mInt64\u001b[39m      │ \u001b[90mString\u001b[39m     │\n",
       "├─────┼───────────┼────────────┼────────────┤\n",
       "│ 1   │ Portland  │ 647805     │ Oregon     │\n",
       "│ 2   │ Eugene    │ 168916     │ Oregon     │\n",
       "│ 3   │ Berkeley  │ 122324     │ California │\n",
       "│ 4   │ Bend      │ 94520      │ Oregon     │\n",
       "│ 5   │ Corvallis │ 57961      │ Oregon     │"
      ]
     },
     "execution_count": 82,
     "metadata": {},
     "output_type": "execute_result"
    }
   ],
   "source": [
    "sort!(df_cities, :population, rev=true) # ! means the input dataframe was modified. now the rows are re-ordered\n",
    "df_cities"
   ]
  },
  {
   "cell_type": "markdown",
   "metadata": {},
   "source": [
    "## read a CSV from a file\n",
    "\n",
    "CSV = comma-separated values, a very common format for storing tables of data"
   ]
  },
  {
   "cell_type": "code",
   "execution_count": 87,
   "metadata": {},
   "outputs": [
    {
     "name": "stdout",
     "output_type": "stream",
     "text": [
      "city,per_capita_income\n",
      "Corvallis,19317\n",
      "Berkeley,38896\n",
      "San Franscisco,52261\n"
     ]
    },
    {
     "data": {
      "text/plain": [
       "Process(`\u001b[4mcat\u001b[24m \u001b[4mincomes.csv\u001b[24m`, ProcessExited(0))"
      ]
     },
     "execution_count": 87,
     "metadata": {},
     "output_type": "execute_result"
    }
   ],
   "source": [
    "run(`cat incomes.csv`) # running shell command from Julia! this is what the file looks like"
   ]
  },
  {
   "cell_type": "code",
   "execution_count": 88,
   "metadata": {},
   "outputs": [
    {
     "data": {
      "text/html": [
       "<table class=\"data-frame\"><thead><tr><th></th><th>city</th><th>per_capita_income</th></tr><tr><th></th><th>String</th><th>Int64</th></tr></thead><tbody><p>3 rows × 2 columns</p><tr><th>1</th><td>Corvallis</td><td>19317</td></tr><tr><th>2</th><td>Berkeley</td><td>38896</td></tr><tr><th>3</th><td>San Franscisco</td><td>52261</td></tr></tbody></table>"
      ],
      "text/latex": [
       "\\begin{tabular}{r|cc}\n",
       "\t& city & per\\_capita\\_income\\\\\n",
       "\t\\hline\n",
       "\t& String & Int64\\\\\n",
       "\t\\hline\n",
       "\t1 & Corvallis & 19317 \\\\\n",
       "\t2 & Berkeley & 38896 \\\\\n",
       "\t3 & San Franscisco & 52261 \\\\\n",
       "\\end{tabular}\n"
      ],
      "text/plain": [
       "3×2 DataFrame\n",
       "│ Row │ city           │ per_capita_income │\n",
       "│     │ \u001b[90mString\u001b[39m         │ \u001b[90mInt64\u001b[39m             │\n",
       "├─────┼────────────────┼───────────────────┤\n",
       "│ 1   │ Corvallis      │ 19317             │\n",
       "│ 2   │ Berkeley       │ 38896             │\n",
       "│ 3   │ San Franscisco │ 52261             │"
      ]
     },
     "execution_count": 88,
     "metadata": {},
     "output_type": "execute_result"
    }
   ],
   "source": [
    "df_incomes = CSV.read(\"incomes.csv\")"
   ]
  },
  {
   "cell_type": "markdown",
   "metadata": {},
   "source": [
    "## joins\n",
    "combine two dataframes that have different columns\n",
    "\n",
    "there are [seven types of joins](http://juliadata.github.io/DataFrames.jl/stable/man/joins/). let's illustrate two here.\n",
    "\n",
    "goal: join information about *cities* from `df_cities` and `df_incomes`. thus the *key* here is `:city` since we aim to combine rows of the two `DataFrames` on the basis of the `:city` column.\n",
    "\n",
    "subtlety here: \n",
    "* San Francisco is in `df_incomes` but missing from `df_cities`\n",
    "* Bend, Eugene, Portland are in `df_cities` but missing from `df_incomes`\n",
    "\n",
    "### inner join\n",
    "only keep rows where the city is common between the two `DataFrames`\n",
    "(throw out rows that aren't common between the two)"
   ]
  },
  {
   "cell_type": "code",
   "execution_count": 89,
   "metadata": {},
   "outputs": [
    {
     "data": {
      "text/html": [
       "<table class=\"data-frame\"><thead><tr><th></th><th>city</th><th>population</th><th>state</th><th>per_capita_income</th></tr><tr><th></th><th>String</th><th>Int64</th><th>String</th><th>Int64</th></tr></thead><tbody><p>2 rows × 4 columns</p><tr><th>1</th><td>Berkeley</td><td>122324</td><td>California</td><td>38896</td></tr><tr><th>2</th><td>Corvallis</td><td>57961</td><td>Oregon</td><td>19317</td></tr></tbody></table>"
      ],
      "text/latex": [
       "\\begin{tabular}{r|cccc}\n",
       "\t& city & population & state & per\\_capita\\_income\\\\\n",
       "\t\\hline\n",
       "\t& String & Int64 & String & Int64\\\\\n",
       "\t\\hline\n",
       "\t1 & Berkeley & 122324 & California & 38896 \\\\\n",
       "\t2 & Corvallis & 57961 & Oregon & 19317 \\\\\n",
       "\\end{tabular}\n"
      ],
      "text/plain": [
       "2×4 DataFrame\n",
       "│ Row │ city      │ population │ state      │ per_capita_income │\n",
       "│     │ \u001b[90mString\u001b[39m    │ \u001b[90mInt64\u001b[39m      │ \u001b[90mString\u001b[39m     │ \u001b[90mInt64\u001b[39m             │\n",
       "├─────┼───────────┼────────────┼────────────┼───────────────────┤\n",
       "│ 1   │ Berkeley  │ 122324     │ California │ 38896             │\n",
       "│ 2   │ Corvallis │ 57961      │ Oregon     │ 19317             │"
      ]
     },
     "execution_count": 89,
     "metadata": {},
     "output_type": "execute_result"
    }
   ],
   "source": [
    "df = join(df_cities, df_incomes, on=:city, kind=:inner)"
   ]
  },
  {
   "cell_type": "markdown",
   "metadata": {},
   "source": [
    "### outer join\n",
    "keep all rows, fill with `missing` values when an attribute is missing in either `DataFrame`\n",
    "(keep rows that aren't common between the two)"
   ]
  },
  {
   "cell_type": "code",
   "execution_count": 91,
   "metadata": {
    "scrolled": true
   },
   "outputs": [
    {
     "data": {
      "text/html": [
       "<table class=\"data-frame\"><thead><tr><th></th><th>city</th><th>population</th><th>state</th><th>per_capita_income</th></tr><tr><th></th><th>String</th><th>Int64⍰</th><th>String⍰</th><th>Int64⍰</th></tr></thead><tbody><p>6 rows × 4 columns</p><tr><th>1</th><td>Portland</td><td>647805</td><td>Oregon</td><td>missing</td></tr><tr><th>2</th><td>Eugene</td><td>168916</td><td>Oregon</td><td>missing</td></tr><tr><th>3</th><td>Berkeley</td><td>122324</td><td>California</td><td>38896</td></tr><tr><th>4</th><td>Bend</td><td>94520</td><td>Oregon</td><td>missing</td></tr><tr><th>5</th><td>Corvallis</td><td>57961</td><td>Oregon</td><td>19317</td></tr><tr><th>6</th><td>San Franscisco</td><td>missing</td><td>missing</td><td>52261</td></tr></tbody></table>"
      ],
      "text/latex": [
       "\\begin{tabular}{r|cccc}\n",
       "\t& city & population & state & per\\_capita\\_income\\\\\n",
       "\t\\hline\n",
       "\t& String & Int64⍰ & String⍰ & Int64⍰\\\\\n",
       "\t\\hline\n",
       "\t1 & Portland & 647805 & Oregon &  \\\\\n",
       "\t2 & Eugene & 168916 & Oregon &  \\\\\n",
       "\t3 & Berkeley & 122324 & California & 38896 \\\\\n",
       "\t4 & Bend & 94520 & Oregon &  \\\\\n",
       "\t5 & Corvallis & 57961 & Oregon & 19317 \\\\\n",
       "\t6 & San Franscisco &  &  & 52261 \\\\\n",
       "\\end{tabular}\n"
      ],
      "text/plain": [
       "6×4 DataFrame\n",
       "│ Row │ city           │ population │ state      │ per_capita_income │\n",
       "│     │ \u001b[90mString\u001b[39m         │ \u001b[90mInt64⍰\u001b[39m     │ \u001b[90mString⍰\u001b[39m    │ \u001b[90mInt64⍰\u001b[39m            │\n",
       "├─────┼────────────────┼────────────┼────────────┼───────────────────┤\n",
       "│ 1   │ Portland       │ 647805     │ Oregon     │ \u001b[90mmissing\u001b[39m           │\n",
       "│ 2   │ Eugene         │ 168916     │ Oregon     │ \u001b[90mmissing\u001b[39m           │\n",
       "│ 3   │ Berkeley       │ 122324     │ California │ 38896             │\n",
       "│ 4   │ Bend           │ 94520      │ Oregon     │ \u001b[90mmissing\u001b[39m           │\n",
       "│ 5   │ Corvallis      │ 57961      │ Oregon     │ 19317             │\n",
       "│ 6   │ San Franscisco │ \u001b[90mmissing\u001b[39m    │ \u001b[90mmissing\u001b[39m    │ 52261             │"
      ]
     },
     "execution_count": 91,
     "metadata": {},
     "output_type": "execute_result"
    }
   ],
   "source": [
    "df = join(df_cities, df_incomes, on=:city, kind=:outer)"
   ]
  },
  {
   "cell_type": "markdown",
   "metadata": {},
   "source": [
    "## missing values\n",
    "Julia has a data type to efficiently handle missing values"
   ]
  },
  {
   "cell_type": "code",
   "execution_count": null,
   "metadata": {},
   "outputs": [],
   "source": [
    "typeof(missing)"
   ]
  },
  {
   "cell_type": "markdown",
   "metadata": {},
   "source": [
    "columns with missing values are arrays of whatever type but `Union`'d with the `Missing` type"
   ]
  },
  {
   "cell_type": "code",
   "execution_count": 95,
   "metadata": {},
   "outputs": [
    {
     "data": {
      "text/plain": [
       "6-element Array{Union{Missing, Int64},1}:\n",
       " 647805       \n",
       " 168916       \n",
       " 122324       \n",
       "  94520       \n",
       "  57961       \n",
       "       missing"
      ]
     },
     "execution_count": 95,
     "metadata": {},
     "output_type": "execute_result"
    }
   ],
   "source": [
    "df[!, :population]"
   ]
  },
  {
   "cell_type": "markdown",
   "metadata": {},
   "source": [
    "remove all rows that have a missing attribute"
   ]
  },
  {
   "cell_type": "code",
   "execution_count": 97,
   "metadata": {},
   "outputs": [
    {
     "data": {
      "text/html": [
       "<table class=\"data-frame\"><thead><tr><th></th><th>city</th><th>population</th><th>state</th><th>per_capita_income</th></tr><tr><th></th><th>String</th><th>Int64</th><th>String</th><th>Int64</th></tr></thead><tbody><p>2 rows × 4 columns</p><tr><th>1</th><td>Berkeley</td><td>122324</td><td>California</td><td>38896</td></tr><tr><th>2</th><td>Corvallis</td><td>57961</td><td>Oregon</td><td>19317</td></tr></tbody></table>"
      ],
      "text/latex": [
       "\\begin{tabular}{r|cccc}\n",
       "\t& city & population & state & per\\_capita\\_income\\\\\n",
       "\t\\hline\n",
       "\t& String & Int64 & String & Int64\\\\\n",
       "\t\\hline\n",
       "\t1 & Berkeley & 122324 & California & 38896 \\\\\n",
       "\t2 & Corvallis & 57961 & Oregon & 19317 \\\\\n",
       "\\end{tabular}\n"
      ],
      "text/plain": [
       "2×4 DataFrame\n",
       "│ Row │ city      │ population │ state      │ per_capita_income │\n",
       "│     │ \u001b[90mString\u001b[39m    │ \u001b[90mInt64\u001b[39m      │ \u001b[90mString\u001b[39m     │ \u001b[90mInt64\u001b[39m             │\n",
       "├─────┼───────────┼────────────┼────────────┼───────────────────┤\n",
       "│ 1   │ Berkeley  │ 122324     │ California │ 38896             │\n",
       "│ 2   │ Corvallis │ 57961      │ Oregon     │ 19317             │"
      ]
     },
     "execution_count": 97,
     "metadata": {},
     "output_type": "execute_result"
    }
   ],
   "source": [
    "dropmissing(df) # returns a copy, no ! so does not remove the rows from the original df"
   ]
  },
  {
   "cell_type": "markdown",
   "metadata": {},
   "source": [
    "remove all rows with a missing per capita income"
   ]
  },
  {
   "cell_type": "code",
   "execution_count": 98,
   "metadata": {},
   "outputs": [
    {
     "data": {
      "text/html": [
       "<table class=\"data-frame\"><thead><tr><th></th><th>city</th><th>population</th><th>state</th><th>per_capita_income</th></tr><tr><th></th><th>String</th><th>Int64⍰</th><th>String⍰</th><th>Int64</th></tr></thead><tbody><p>3 rows × 4 columns</p><tr><th>1</th><td>Berkeley</td><td>122324</td><td>California</td><td>38896</td></tr><tr><th>2</th><td>Corvallis</td><td>57961</td><td>Oregon</td><td>19317</td></tr><tr><th>3</th><td>San Franscisco</td><td>missing</td><td>missing</td><td>52261</td></tr></tbody></table>"
      ],
      "text/latex": [
       "\\begin{tabular}{r|cccc}\n",
       "\t& city & population & state & per\\_capita\\_income\\\\\n",
       "\t\\hline\n",
       "\t& String & Int64⍰ & String⍰ & Int64\\\\\n",
       "\t\\hline\n",
       "\t1 & Berkeley & 122324 & California & 38896 \\\\\n",
       "\t2 & Corvallis & 57961 & Oregon & 19317 \\\\\n",
       "\t3 & San Franscisco &  &  & 52261 \\\\\n",
       "\\end{tabular}\n"
      ],
      "text/plain": [
       "3×4 DataFrame\n",
       "│ Row │ city           │ population │ state      │ per_capita_income │\n",
       "│     │ \u001b[90mString\u001b[39m         │ \u001b[90mInt64⍰\u001b[39m     │ \u001b[90mString⍰\u001b[39m    │ \u001b[90mInt64\u001b[39m             │\n",
       "├─────┼────────────────┼────────────┼────────────┼───────────────────┤\n",
       "│ 1   │ Berkeley       │ 122324     │ California │ 38896             │\n",
       "│ 2   │ Corvallis      │ 57961      │ Oregon     │ 19317             │\n",
       "│ 3   │ San Franscisco │ \u001b[90mmissing\u001b[39m    │ \u001b[90mmissing\u001b[39m    │ 52261             │"
      ]
     },
     "execution_count": 98,
     "metadata": {},
     "output_type": "execute_result"
    }
   ],
   "source": [
    "dropmissing(df, :per_capita_income)"
   ]
  },
  {
   "cell_type": "markdown",
   "metadata": {},
   "source": [
    "## write `DataFrame` to CSV"
   ]
  },
  {
   "cell_type": "code",
   "execution_count": 103,
   "metadata": {},
   "outputs": [
    {
     "name": "stdout",
     "output_type": "stream",
     "text": [
      "city,population,state,per_capita_income\n",
      "Portland,647805,Oregon,\n",
      "Eugene,168916,Oregon,\n",
      "Berkeley,122324,California,38896\n",
      "Bend,94520,Oregon,\n",
      "Corvallis,57961,Oregon,19317\n",
      "San Franscisco,,,52261\n"
     ]
    },
    {
     "data": {
      "text/plain": [
       "Process(`\u001b[4mcat\u001b[24m \u001b[4mjoined_df.csv\u001b[24m`, ProcessExited(0))"
      ]
     },
     "execution_count": 103,
     "metadata": {},
     "output_type": "execute_result"
    }
   ],
   "source": [
    "CSV.write(\"joined_df.csv\", df)\n",
    "\n",
    "run(`cat joined_df.csv`)"
   ]
  }
 ],
 "metadata": {
  "@webio": {
   "lastCommId": null,
   "lastKernelId": null
  },
  "kernelspec": {
   "display_name": "Julia 1.2.0",
   "language": "julia",
   "name": "julia-1.2"
  },
  "language_info": {
   "file_extension": ".jl",
   "mimetype": "application/julia",
   "name": "julia",
   "version": "1.2.0"
  }
 },
 "nbformat": 4,
 "nbformat_minor": 2
}
