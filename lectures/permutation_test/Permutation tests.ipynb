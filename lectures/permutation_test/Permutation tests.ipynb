{
 "cells": [
  {
   "cell_type": "code",
   "execution_count": 56,
   "metadata": {},
   "outputs": [
    {
     "data": {
      "text/plain": [
       "16"
      ]
     },
     "execution_count": 56,
     "metadata": {},
     "output_type": "execute_result"
    }
   ],
   "source": [
    "using CSV\n",
    "using DataFrames\n",
    "using PyPlot\n",
    "using Statistics\n",
    "using Random\n",
    "using LaTeXStrings\n",
    "\n",
    "# (optional) check out all of the styles! https://matplotlib.org/3.1.1/gallery/style_sheets/style_sheets_reference.html\n",
    "PyPlot.matplotlib.style.use(\"Solarize_Light2\")\n",
    "\n",
    "# (optional)change settings for all plots at once, e.g. font size\n",
    "rcParams = PyPlot.PyDict(PyPlot.matplotlib.\"rcParams\")\n",
    "rcParams[\"font.size\"] = 16"
   ]
  },
  {
   "cell_type": "markdown",
   "metadata": {},
   "source": [
    "# A/B testing\n",
    "\n",
    "> In modern data analytics, deciding whether two numerical samples come from the same underlying distribution is called A/B testing. The name refers to the labels of the two samples, A and B. [source](https://www.inferentialthinking.com/chapters/12/1/AB_Testing.html)\n",
    "\n",
    "See [Computational and Inferential Thinking](https://www.inferentialthinking.com/chapters/12/3/Causality.html) by which this notebook is heavily inspired.\n",
    "\n",
    "Consider a large population of cauliflower plants on a farm, all planted at the same time. Twenty of the cauliflower plants (the treatment group) are randomly selected from this population to receive fertilizer treatment each week; another twenty are randomly selected as a control group and do not receive fertilizer. We then measure the mass (in grams) of each cauliflower head in the two groups after two months. Our goal in this A/B test is to determine if the distribution of masses of cauliflower heads in the treatment group differs from the distribution of masses in the control group. \n",
    "\n",
    "<img src=\"https://upload.wikimedia.org/wikipedia/commons/2/25/Cauliflower.JPG\" width=100>\n",
    "\n",
    "Because the cauliflowers were randomly assigned to the control and treatment groups, a different distribution of masses between the two groups is evidence for causality, i.e. evidence that the fertilizer *caused* the mass distribution to be different in the treatment group. In contrast, if this were an observational study, where we simply measured the mass of cauliflowers in multiple farms, some treated with fertilizer, some not, there could be confouding variables that explain differences in the distribution of masses, such as e.g. if farmers who did not use fertilizer tended to have different types of soil.\n",
    "\n",
    "Below, we read the data from the randomized controlled cauliflower study. Each row in `cauliflower.csv` corresponds to a cauliflower plant; the `group` column indicates whether the cauliflower was in the control or treatment group, and the `mass` column indicates its mass in grams after two months."
   ]
  },
  {
   "cell_type": "code",
   "execution_count": 86,
   "metadata": {
    "scrolled": false
   },
   "outputs": [
    {
     "data": {
      "text/html": [
       "<table class=\"data-frame\"><thead><tr><th></th><th>group</th><th>mass</th></tr><tr><th></th><th>String</th><th>Float64</th></tr></thead><tbody><p>6 rows × 2 columns</p><tr><th>1</th><td>control</td><td>905.204</td></tr><tr><th>2</th><td>fertilizer</td><td>910.038</td></tr><tr><th>3</th><td>fertilizer</td><td>892.856</td></tr><tr><th>4</th><td>control</td><td>828.234</td></tr><tr><th>5</th><td>control</td><td>715.818</td></tr><tr><th>6</th><td>fertilizer</td><td>701.48</td></tr></tbody></table>"
      ],
      "text/latex": [
       "\\begin{tabular}{r|cc}\n",
       "\t& group & mass\\\\\n",
       "\t\\hline\n",
       "\t& String & Float64\\\\\n",
       "\t\\hline\n",
       "\t1 & control & 905.204 \\\\\n",
       "\t2 & fertilizer & 910.038 \\\\\n",
       "\t3 & fertilizer & 892.856 \\\\\n",
       "\t4 & control & 828.234 \\\\\n",
       "\t5 & control & 715.818 \\\\\n",
       "\t6 & fertilizer & 701.48 \\\\\n",
       "\\end{tabular}\n"
      ],
      "text/plain": [
       "6×2 DataFrame\n",
       "│ Row │ group      │ mass    │\n",
       "│     │ \u001b[90mString\u001b[39m     │ \u001b[90mFloat64\u001b[39m │\n",
       "├─────┼────────────┼─────────┤\n",
       "│ 1   │ control    │ 905.204 │\n",
       "│ 2   │ fertilizer │ 910.038 │\n",
       "│ 3   │ fertilizer │ 892.856 │\n",
       "│ 4   │ control    │ 828.234 │\n",
       "│ 5   │ control    │ 715.818 │\n",
       "│ 6   │ fertilizer │ 701.48  │"
      ]
     },
     "execution_count": 86,
     "metadata": {},
     "output_type": "execute_result"
    }
   ],
   "source": [
    "df = CSV.read(\"cauliflower.csv\", copycols=true)\n",
    "first(df, 6)"
   ]
  },
  {
   "cell_type": "markdown",
   "metadata": {},
   "source": [
    "how many cauliflowers are allocated to each group?"
   ]
  },
  {
   "cell_type": "code",
   "execution_count": 58,
   "metadata": {},
   "outputs": [
    {
     "data": {
      "text/html": [
       "<table class=\"data-frame\"><thead><tr><th></th><th>group</th><th>nb_plants</th></tr><tr><th></th><th>String</th><th>Int64</th></tr></thead><tbody><p>2 rows × 2 columns</p><tr><th>1</th><td>control</td><td>20</td></tr><tr><th>2</th><td>fertilizer</td><td>20</td></tr></tbody></table>"
      ],
      "text/latex": [
       "\\begin{tabular}{r|cc}\n",
       "\t& group & nb\\_plants\\\\\n",
       "\t\\hline\n",
       "\t& String & Int64\\\\\n",
       "\t\\hline\n",
       "\t1 & control & 20 \\\\\n",
       "\t2 & fertilizer & 20 \\\\\n",
       "\\end{tabular}\n"
      ],
      "text/plain": [
       "2×2 DataFrame\n",
       "│ Row │ group      │ nb_plants │\n",
       "│     │ \u001b[90mString\u001b[39m     │ \u001b[90mInt64\u001b[39m     │\n",
       "├─────┼────────────┼───────────┤\n",
       "│ 1   │ control    │ 20        │\n",
       "│ 2   │ fertilizer │ 20        │"
      ]
     },
     "execution_count": 58,
     "metadata": {},
     "output_type": "execute_result"
    }
   ],
   "source": [
    "by(df, :group, nb_plants=:group=>length)"
   ]
  },
  {
   "cell_type": "markdown",
   "metadata": {},
   "source": [
    "compare the distribution of masses among the two groups (control, treatment) in two ways:\n",
    "* two opaque histograms on top of each other\n",
    "* two box plots next to each other"
   ]
  },
  {
   "cell_type": "code",
   "execution_count": 59,
   "metadata": {
    "scrolled": false
   },
   "outputs": [
    {
     "data": {
      "image/png": "[encoded data removed]",
      "text/plain": [
       "Figure(PyObject <Figure size 640x480 with 1 Axes>)"
      ]
     },
     "metadata": {},
     "output_type": "display_data"
    },
    {
     "data": {
      "image/png": "[encoded data removed]",
      "text/plain": [
       "Figure(PyObject <Figure size 640x480 with 1 Axes>)"
      ]
     },
     "metadata": {},
     "output_type": "display_data"
    }
   ],
   "source": [
    "###\n",
    "# (1) two histograms\n",
    "\n",
    "bins = range(minimum(df[:, :mass]), stop=maximum(df[:, :mass]), length=8) # shared bins\n",
    "\n",
    "figure()\n",
    "for df_g in groupby(df, :group)\n",
    "    groub = df_g[1, :group]\n",
    "    hist(df_g[:, :mass], label=groub, alpha=0.3, bins=bins)\n",
    "end\n",
    "legend()\n",
    "xlabel(\"mass [g]\")\n",
    "ylabel(\"# cauliflowers\")\n",
    "show()\n",
    "\n",
    "###\n",
    "# (2) two boxplots\n",
    "groups = [\"control\", \"fertilizer\"]\n",
    "\n",
    "figure()\n",
    "boxplot([filter(row -> row[:group] == group, df)[:, :mass] for group in groups])\n",
    "xticks(1:2, groups)\n",
    "ylabel(\"mass [g]\")\n",
    "show()"
   ]
  },
  {
   "cell_type": "markdown",
   "metadata": {},
   "source": [
    "the distribution of masses of cauliflowers in the fertilizer group appears to be biased to the right of the distribution of masses of cauliflowers in the control group.\n",
    "\n",
    "the average cauliflower mass in the fertilizer group is greater than the average mass in the control group."
   ]
  },
  {
   "cell_type": "code",
   "execution_count": 60,
   "metadata": {},
   "outputs": [
    {
     "data": {
      "text/html": [
       "<table class=\"data-frame\"><thead><tr><th></th><th>group</th><th>avg_mass</th></tr><tr><th></th><th>String</th><th>Float64</th></tr></thead><tbody><p>2 rows × 2 columns</p><tr><th>1</th><td>control</td><td>827.462</td></tr><tr><th>2</th><td>fertilizer</td><td>859.655</td></tr></tbody></table>"
      ],
      "text/latex": [
       "\\begin{tabular}{r|cc}\n",
       "\t& group & avg\\_mass\\\\\n",
       "\t\\hline\n",
       "\t& String & Float64\\\\\n",
       "\t\\hline\n",
       "\t1 & control & 827.462 \\\\\n",
       "\t2 & fertilizer & 859.655 \\\\\n",
       "\\end{tabular}\n"
      ],
      "text/plain": [
       "2×2 DataFrame\n",
       "│ Row │ group      │ avg_mass │\n",
       "│     │ \u001b[90mString\u001b[39m     │ \u001b[90mFloat64\u001b[39m  │\n",
       "├─────┼────────────┼──────────┤\n",
       "│ 1   │ control    │ 827.462  │\n",
       "│ 2   │ fertilizer │ 859.655  │"
      ]
     },
     "execution_count": 60,
     "metadata": {},
     "output_type": "execute_result"
    }
   ],
   "source": [
    "by(df, :group, avg_mass=:mass=>mean)"
   ]
  },
  {
   "cell_type": "markdown",
   "metadata": {},
   "source": [
    "however, this difference in means could be due to chance, owing to the random process of allocating the cauliflowers to the control and treatment groups! after all, we only have 20 cauliflowers in each group. it could have happened by chance that e.g., the cauliflower seeds harboring genes for a greater mass happened to fall in the fertilizier group, or that there was a slightly different slope in the ground for cauliflowers in the control group that prevented rain infiltration into the soil, etc. How confident are we that the difference in the distribution of masses between the control and treatment groups is not due to chance?\n",
    "\n",
    "To formalize, we have two possible hypotheses:\n",
    "\n",
    "**null hypothesis**: in the population of cauliflower plants, the distribution of masses of the cauliflower heads is the same for cauliflower plants that receive fertilizer treatment as those that do not. The difference in the distributions we see above is due to chance.\n",
    "\n",
    "**alternative hypothesis**: in the population of cauliflower plants, the distribution of masses of cauliflower heads of plants that receive fertilizier treatment differs from that of cauliflower plants that do not receive fertilizer treatment.\n",
    "\n",
    "we now choose a **test statistic**, which maps our data set to a single number, that would differ under the null and alternative hypothesis. let us choose the test statistic as the difference in means among the two groups:\n",
    "\n",
    "*test statistic* := (mean mass of cauliflower heads in the fertilizer treatment group) - (mean mass of cauliflower heads in the control group)\n",
    "\n",
    "this test statistic is a random variable. if we could repeat the cauliflower experiment over and over, there would be different allocations of the cauliflower plants to the control and treatment groups and, consequently, different differences in the means from experiment to experiment. i.e. the test statistic varies from experiment to experiment because of the randomness of allocating the cauliflower plants (which harbor some intrinsic variation in e.g. genes) to the different groups.\n",
    "\n",
    "We will answer the question: if we were to repeat this randomized experiment, what is the probability that we would observe a test statistic as or more extreme than we did, given that the null hypothesis is true? Our approach is:\n",
    "* compute the test statistic for our current sample of data\n",
    "* simulate the repetition of this experiment (re-allocating cauliflowers to treatment and control groups) assuming that the null hypothesis is true to obtain the distribution of the test statistic under the null hypothesis\n",
    "* from this distribution of the test statistic under the null hypothesis, compute the probability that we would observe a test statistic equal to or more extreme than the test statistic from our study, assuming that the null hypothesis is true. this is the **p-value**.\n",
    "\n",
    "so if the *p-value* is 0.05, this tells us, if we could repeat this experiment many times and randomly allocate cauliflowers to the control and treatment groups, *and* if fertilizer treatment had *no* effect whatsover on the mass of the cauliflower, then 5% of the time would we see the difference in means as large as it is or larger.\n",
    "\n",
    "so if the *p-value* is small, that means that it is unlikely that the difference in means we see is due only to the random sampling. thus it must be likely that the difference in means is due to a different underlying distribution of masses among cauliflowers treated with fertilizier and those that are not.\n",
    "\n",
    "> Null hypothesis testing is a reductio ad absurdum argument adapted to statistics. In essence, a claim is assumed valid if its counter-claim is improbable. - [Wikipedia](https://en.wikipedia.org/wiki/P-value)"
   ]
  },
  {
   "cell_type": "markdown",
   "metadata": {},
   "source": [
    "## computing the test statistic\n",
    "let's write a function that takes in a `DataFrame` from a cauliflower experiment and returns the test statistic."
   ]
  },
  {
   "cell_type": "code",
   "execution_count": 61,
   "metadata": {},
   "outputs": [
    {
     "data": {
      "text/plain": [
       "32.19304907096887"
      ]
     },
     "execution_count": 61,
     "metadata": {},
     "output_type": "execute_result"
    }
   ],
   "source": [
    "\"\"\"\n",
    "return the difference in mean mass between the cauliflowers \n",
    "treated with fertilizer and those that were not (control group)\n",
    "the group_label argument tells us the column name of the group \n",
    "to which the cauliflowers belong.\n",
    "\"\"\"\n",
    "function difference_in_means(df_cauli::DataFrame, group_label::Symbol)\n",
    "    μ_control = mean(filter(row -> row[group_label] == \"control\", df_cauli)[:, :mass])\n",
    "    μ_treatment = mean(filter(row -> row[group_label] == \"fertilizer\", df_cauli)[:, :mass])\n",
    "    return μ_treatment - μ_control\n",
    "end\n",
    "\n",
    "μ_difference = difference_in_means(df, :group)"
   ]
  },
  {
   "cell_type": "markdown",
   "metadata": {},
   "source": [
    "## randomly permuting the group labels: simulating the test statistic under the null hypothesis\n",
    "let's simulate repititions of this random experiment under the null hypothesis to obtain the distribution of the test statistic under the null hypothesis. the key insight is that, under the null hypothesis, the mass of the cauliflower head is not affected by the treatment. so, during repititions of this random experiment, the masses of all 40 cauliflowers in our data set would be the same as we see in `df`, regardless of how exactly the cauliflowers are allocated into the two groups. that is, under the null hypothesis, we can simulate a repitition of this experiment by maintaining a list of 40 cauliflowers whose masses are the same as in `df`, but with their group labels (control/fertilizer) randomly *permuted*.\n",
    "\n",
    "*simulation of the repeated random experiment under the null hypothesis*: make a new column `:shuffled_group` in `df` that denotes the group to which the cauliflower plant (with the same mass) is allocated in the experiment repitition. the `:mass` column remains the same since, under the null hypothesis, the mass of the cauliflower is not affected by fertilizer. the `:shuffled_group` is a random permutation of the `:group` column in the original experiment."
   ]
  },
  {
   "cell_type": "code",
   "execution_count": 62,
   "metadata": {},
   "outputs": [
    {
     "data": {
      "text/html": [
       "<table class=\"data-frame\"><thead><tr><th></th><th>group</th><th>mass</th><th>shuffled_group</th></tr><tr><th></th><th>String</th><th>Float64</th><th>String</th></tr></thead><tbody><p>6 rows × 3 columns</p><tr><th>1</th><td>control</td><td>905.204</td><td>control</td></tr><tr><th>2</th><td>fertilizer</td><td>910.038</td><td>control</td></tr><tr><th>3</th><td>fertilizer</td><td>892.856</td><td>control</td></tr><tr><th>4</th><td>control</td><td>828.234</td><td>fertilizer</td></tr><tr><th>5</th><td>control</td><td>715.818</td><td>control</td></tr><tr><th>6</th><td>fertilizer</td><td>701.48</td><td>control</td></tr></tbody></table>"
      ],
      "text/latex": [
       "\\begin{tabular}{r|ccc}\n",
       "\t& group & mass & shuffled\\_group\\\\\n",
       "\t\\hline\n",
       "\t& String & Float64 & String\\\\\n",
       "\t\\hline\n",
       "\t1 & control & 905.204 & control \\\\\n",
       "\t2 & fertilizer & 910.038 & control \\\\\n",
       "\t3 & fertilizer & 892.856 & control \\\\\n",
       "\t4 & control & 828.234 & fertilizer \\\\\n",
       "\t5 & control & 715.818 & control \\\\\n",
       "\t6 & fertilizer & 701.48 & control \\\\\n",
       "\\end{tabular}\n"
      ],
      "text/plain": [
       "6×3 DataFrame\n",
       "│ Row │ group      │ mass    │ shuffled_group │\n",
       "│     │ \u001b[90mString\u001b[39m     │ \u001b[90mFloat64\u001b[39m │ \u001b[90mString\u001b[39m         │\n",
       "├─────┼────────────┼─────────┼────────────────┤\n",
       "│ 1   │ control    │ 905.204 │ control        │\n",
       "│ 2   │ fertilizer │ 910.038 │ control        │\n",
       "│ 3   │ fertilizer │ 892.856 │ control        │\n",
       "│ 4   │ control    │ 828.234 │ fertilizer     │\n",
       "│ 5   │ control    │ 715.818 │ control        │\n",
       "│ 6   │ fertilizer │ 701.48  │ control        │"
      ]
     },
     "execution_count": 62,
     "metadata": {},
     "output_type": "execute_result"
    }
   ],
   "source": [
    "df[!, :shuffled_group] = df[shuffle(1:nrow(df)), :group]\n",
    "first(df, 6)"
   ]
  },
  {
   "cell_type": "markdown",
   "metadata": {},
   "source": [
    "indeed, the test statistic is different (unless we happen to assing the cauliflowers to the same group, which is very unlikely)."
   ]
  },
  {
   "cell_type": "code",
   "execution_count": 64,
   "metadata": {},
   "outputs": [
    {
     "data": {
      "text/plain": [
       "7.1474547614292305"
      ]
     },
     "execution_count": 64,
     "metadata": {},
     "output_type": "execute_result"
    }
   ],
   "source": [
    "difference_in_means(df, :shuffled_group)"
   ]
  },
  {
   "cell_type": "markdown",
   "metadata": {},
   "source": [
    "let us now simulate repititions of the random experiment under the null hypothesis 10000 times, record the difference in means among the two groups, then plot the distribution of the difference in means "
   ]
  },
  {
   "cell_type": "code",
   "execution_count": 65,
   "metadata": {},
   "outputs": [],
   "source": [
    "nb_sims = 10000 # number of simulations to run\n",
    "# preallocate an array of NaNs in which we will store the resulting test statistics\n",
    "μ_differences = [NaN for s = 1:nb_sims]\n",
    "for s = 1:nb_sims\n",
    "    # randomly permute groups = simulate random allocation of cauliflowers to groups\n",
    "    df[!, :shuffled_group] = df[shuffle(1:nrow(df)), :group]\n",
    "    # compute test statistic\n",
    "    μ_differences[s] = difference_in_means(df, :shuffled_group)\n",
    "end"
   ]
  },
  {
   "cell_type": "markdown",
   "metadata": {},
   "source": [
    "now plot the distribution of the difference of means under the null hypothesis"
   ]
  },
  {
   "cell_type": "code",
   "execution_count": 66,
   "metadata": {
    "scrolled": false
   },
   "outputs": [
    {
     "data": {
      "image/png": "[encoded data removed]",
      "text/plain": [
       "Figure(PyObject <Figure size 640x480 with 1 Axes>)"
      ]
     },
     "metadata": {},
     "output_type": "display_data"
    }
   ],
   "source": [
    "figure()\n",
    "xlabel(L\"$\\mu_{treatment} - \\mu_{control}$\")\n",
    "ylabel(\"# experiments\")\n",
    "title(\"under the null hypothesis\")\n",
    "# plot the actual test statistic as a vertical line\n",
    "axvline(x=μ_difference, color=\"C2\")\n",
    "hist(μ_differences)\n",
    "show()"
   ]
  },
  {
   "cell_type": "markdown",
   "metadata": {},
   "source": [
    "why is the difference in means centered around zero? because, under the null hypothesis, there is no difference in the mean mass between the control and treatment groups!\n",
    "\n",
    "the vertical line shows the difference in means for the acutal cauliflower experiment we observed. indeed, for a number of the simulations under the null hypothesis, the difference in means between the two groups is even more extreme than we observed! so we can see that, although in our actual experiment, the distribution of masses for the fertilized cauliflowers is shifted to the right from that of the control group, there is a non-negligible probability that this was purely from chance, i.e. purely from how we happened to assign the cauliflowers into the two groups.\n",
    "\n",
    "the *p-value* is the proportion of simulated experiments under the null hypothesis where the difference in means was equal to or more extreme than what we observed in the actual experiment."
   ]
  },
  {
   "cell_type": "code",
   "execution_count": 68,
   "metadata": {},
   "outputs": [
    {
     "data": {
      "text/plain": [
       "0.054"
      ]
     },
     "execution_count": 68,
     "metadata": {},
     "output_type": "execute_result"
    }
   ],
   "source": [
    "p_value = sum(μ_differences .>= μ_difference) / nb_sims"
   ]
  },
  {
   "cell_type": "markdown",
   "metadata": {},
   "source": [
    "in conclusion, we have used a powerful computational technique to test a hypothesis called a **random permutation test**.\n",
    "\n",
    "the *level of statistical significance* $\\alpha$ is a [subjective] quantity set by researchers before the study for how small the p-value has to be to reject their null hypothesis and declare the result *statistically significant*. often $\\alpha := 0.05$."
   ]
  }
 ],
 "metadata": {
  "@webio": {
   "lastCommId": "e2ee281045e44949bc1f1a3e87af55da",
   "lastKernelId": "eb7fe234-35f0-4c2f-9eda-d7f045b730e9"
  },
  "kernelspec": {
   "display_name": "Julia 1.2.0",
   "language": "julia",
   "name": "julia-1.2"
  },
  "language_info": {
   "file_extension": ".jl",
   "mimetype": "application/julia",
   "name": "julia",
   "version": "1.2.0"
  }
 },
 "nbformat": 4,
 "nbformat_minor": 2
}
